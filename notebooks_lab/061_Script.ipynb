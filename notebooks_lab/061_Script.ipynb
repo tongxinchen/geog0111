{
 "cells": [
  {
   "cell_type": "markdown",
   "metadata": {},
   "source": [
    "# Formative Assessment: Scripts"
   ]
  },
  {
   "cell_type": "markdown",
   "metadata": {},
   "source": [
    "\n",
    "*Although we provide access to answers for this exercise, we want you to submit the codes you generate via Moodle, so that we can provide feedback. You should avoid looking at the answers before you submit your work. This submitted work does not count towards your course assessment, it is purely to allow us to provide some rapid feedback to you on how you are doing. You will need to put together a few elements from the notes so far to do all parts of this practical, but you should all be capable of doing it well. Pay attention to writing tidy code, with useful, clear comments and document strings.*"
   ]
  },
  {
   "cell_type": "markdown",
   "metadata": {},
   "source": [
    "#### Exercise 1\n",
    "\n",
    "* Create a Python code in a file called `work/greet.py` that does the following:\n",
    "    - define a function `greet(name)` that prints out a greeting from the name in the argument  `name`\n",
    "    - define a function `main() that passes a string from the script command line to a function `greet(name)`\n",
    "    - calls `main()` if the file is run as a Python script \n",
    "    - show a test of the script working\n",
    "    - has plentiful commenting and document strings\n",
    "   \n",
    "    - As a test, when you run the script:\n",
    "\n",
    "            %run work/greet.py Fred\n",
    "\n",
    "    you would expect to get a response of the form:\n",
    "\n",
    "            greetings from Fred\n",
    "\n",
    "    and if you run:\n",
    "            %run work/greet.py Hermione\n",
    "\n",
    "    then\n",
    "            greetings from Hermione\n",
    "    \n",
    "* To go further with this exercise, you might test to see that the length of `sys.argv` is as long as you expect it to be, so you can tell the user when they forget toi include the name\n",
    "* To go even further with this exercise, you might attempt to make the script function so that if you run it as:\n",
    "\n",
    "        %run work/greet.py Fred Hermione\n",
    "    \n",
    "    it responds:\n",
    "\n",
    "        greetings from Fred\n",
    "        greetings from Hermione"
   ]
  }
 ],
 "metadata": {
  "kernelspec": {
   "display_name": "Python [conda env:geog0111-geog0111]",
   "language": "python",
   "name": "conda-env-geog0111-geog0111-py"
  },
  "language_info": {
   "codemirror_mode": {
    "name": "ipython",
    "version": 3
   },
   "file_extension": ".py",
   "mimetype": "text/x-python",
   "name": "python",
   "nbconvert_exporter": "python",
   "pygments_lexer": "ipython3",
   "version": "3.7.8"
  }
 },
 "nbformat": 4,
 "nbformat_minor": 4
}
