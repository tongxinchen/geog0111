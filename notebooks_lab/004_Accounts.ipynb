{
 "cells": [
  {
   "cell_type": "markdown",
   "metadata": {},
   "source": [
    "# 004 Setup, Accounts and logins"
   ]
  },
  {
   "cell_type": "markdown",
   "metadata": {},
   "source": [
    "## Introduction"
   ]
  },
  {
   "cell_type": "markdown",
   "metadata": {},
   "source": [
    "### NASA Earthdata login and password\n",
    "\n",
    "\n",
    "Before you can use the material in these notebooks, you will need to register as a user at the [`NASA EarthData`](https://urs.earthdata.nasa.gov/users/new).\n",
    "\n",
    "Once you have done that, make sure you know your `username` and `password` ready for below.\n",
    "\n",
    "Some web resources require you to use a login and password. In any publicly available files (like these notebooks) we do not want to expose sensitive information such information.\n",
    "\n",
    "To that in these notes we can make use of stored passwords and usernames using the local [cylog](geog0111/cylog.py) package. \n",
    "\n",
    "Information is encrypted in a user read-only file in your home directory (mode `400`) and accessed through the `Cylog`  `login` function.\n",
    "\n",
    "You need to store your username and password in a database file (that only you can access) to be able to make convenient use oof the notes in later classes.\n",
    "\n",
    "You can do this by running through the following cell, and responding as appropriate."
   ]
  },
  {
   "cell_type": "code",
   "execution_count": 1,
   "metadata": {},
   "outputs": [],
   "source": [
    "from geog0111.cylog import Cylog\n",
    "\n",
    "sites = ['https://n5eil01u.ecs.nsidc.org',\\\n",
    "         'https://urs.earthdata.nasa.gov',\\\n",
    "        'https://e4ftl01.cr.usgs.gov']\n",
    "\n",
    "l = Cylog(sites)\n",
    "test = l.login()"
   ]
  },
  {
   "cell_type": "markdown",
   "metadata": {},
   "source": [
    "### Test\n",
    "\n",
    "You can run a test on your login to NASA Earthdata using the information you have stored this using `cylog` for the site `https://e4ftl01.cr.usgs.gov`. We can test this with the following code if you set do_test to True:"
   ]
  },
  {
   "cell_type": "code",
   "execution_count": 2,
   "metadata": {},
   "outputs": [],
   "source": [
    "from geog0111.modis import test_login\n",
    "do_test=False\n",
    "assert test_login(do_test)"
   ]
  },
  {
   "cell_type": "markdown",
   "metadata": {},
   "source": [
    "## Reset password\n",
    "\n",
    "If you are interested, you can see the help page for `Cylog`. It shows, for instance, how to over-ride the current entry (e.g. if you have changed your password), by using `force=True`)."
   ]
  },
  {
   "cell_type": "code",
   "execution_count": 1,
   "metadata": {},
   "outputs": [
    {
     "name": "stdout",
     "output_type": "stream",
     "text": [
      "Help on function login in module geog0111.cylog:\n",
      "\n",
      "login(self, site=False, force=False)\n",
      "    Reads encrypted information from ~/{dest_path}/.cylog.npz\n",
      "    \n",
      "    Keyword arguments\n",
      "    ----------\n",
      "    site = False (so self.site is default)\n",
      "           string of anchor URL for site to associate with username and\n",
      "           password\n",
      "    force = False\n",
      "           force password re-entry for site\n",
      "    \n",
      "    Returns\n",
      "    --------\n",
      "    A tuple containing plain text (username,password) for (site or self.site)\n",
      "\n"
     ]
    }
   ],
   "source": [
    "from geog0111.cylog import Cylog\n",
    "help(Cylog.login)"
   ]
  },
  {
   "cell_type": "markdown",
   "metadata": {},
   "source": [
    "You should be aware that the NASA servers this connects you to go down for maintenance on Wednesdays. You can ping the servers with the follwoing code:"
   ]
  },
  {
   "cell_type": "markdown",
   "metadata": {},
   "source": [
    "If this fails, you may have entered your account information incorrectly for `https://e4ftl01.cr.usgs.gov` (or it could just be Wednesday, in which case, don't run this again)."
   ]
  },
  {
   "cell_type": "markdown",
   "metadata": {},
   "source": [
    "If you want to force the code to let you re-enter your credentials (e.g. you got it wrong before, or have changed them, or the test fails), then change the call to:\n",
    "\n",
    "    cy = cylog(site,force=True)\n",
    "    \n",
    "and re-run."
   ]
  }
 ],
 "metadata": {
  "kernelspec": {
   "display_name": "Python [conda env:geog0111-geog0111]",
   "language": "python",
   "name": "conda-env-geog0111-geog0111-py"
  },
  "language_info": {
   "codemirror_mode": {
    "name": "ipython",
    "version": 3
   },
   "file_extension": ".py",
   "mimetype": "text/x-python",
   "name": "python",
   "nbconvert_exporter": "python",
   "pygments_lexer": "ipython3",
   "version": "3.7.8"
  }
 },
 "nbformat": 4,
 "nbformat_minor": 4
}
