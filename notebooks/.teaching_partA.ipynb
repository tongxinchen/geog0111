{
 "cells": [
  {
   "cell_type": "markdown",
   "metadata": {},
   "source": [
    "# Teaching notes for practical Part A\n",
    "\n",
    "This is in essence the answer for the coding required.\n",
    "\n",
    "Need to make sure the students have learned all of these things\n"
   ]
  },
  {
   "cell_type": "code",
   "execution_count": 2,
   "metadata": {},
   "outputs": [
    {
     "data": {
      "text/html": [
       "<div>\n",
       "<style scoped>\n",
       "    .dataframe tbody tr th:only-of-type {\n",
       "        vertical-align: middle;\n",
       "    }\n",
       "\n",
       "    .dataframe tbody tr th {\n",
       "        vertical-align: top;\n",
       "    }\n",
       "\n",
       "    .dataframe thead th {\n",
       "        text-align: right;\n",
       "    }\n",
       "</style>\n",
       "<table border=\"1\" class=\"dataframe\">\n",
       "  <thead>\n",
       "    <tr style=\"text-align: right;\">\n",
       "      <th></th>\n",
       "      <th>5s</th>\n",
       "      <th>15s</th>\n",
       "      <th>20d</th>\n",
       "      <th>14n</th>\n",
       "      <th>10s</th>\n",
       "      <th>date</th>\n",
       "      <th>discharge</th>\n",
       "    </tr>\n",
       "  </thead>\n",
       "  <tbody>\n",
       "    <tr>\n",
       "      <th>6574</th>\n",
       "      <td>USGS</td>\n",
       "      <td>8220000</td>\n",
       "      <td>2019-01-01</td>\n",
       "      <td>86.0</td>\n",
       "      <td>A:e</td>\n",
       "      <td>2019-01-01</td>\n",
       "      <td>1970-01-01 00:00:00.000000086</td>\n",
       "    </tr>\n",
       "    <tr>\n",
       "      <th>6575</th>\n",
       "      <td>USGS</td>\n",
       "      <td>8220000</td>\n",
       "      <td>2019-01-02</td>\n",
       "      <td>88.0</td>\n",
       "      <td>A:e</td>\n",
       "      <td>2019-01-02</td>\n",
       "      <td>1970-01-01 00:00:00.000000088</td>\n",
       "    </tr>\n",
       "    <tr>\n",
       "      <th>6576</th>\n",
       "      <td>USGS</td>\n",
       "      <td>8220000</td>\n",
       "      <td>2019-01-03</td>\n",
       "      <td>92.0</td>\n",
       "      <td>A:e</td>\n",
       "      <td>2019-01-03</td>\n",
       "      <td>1970-01-01 00:00:00.000000092</td>\n",
       "    </tr>\n",
       "    <tr>\n",
       "      <th>6577</th>\n",
       "      <td>USGS</td>\n",
       "      <td>8220000</td>\n",
       "      <td>2019-01-04</td>\n",
       "      <td>100.0</td>\n",
       "      <td>A:e</td>\n",
       "      <td>2019-01-04</td>\n",
       "      <td>1970-01-01 00:00:00.000000100</td>\n",
       "    </tr>\n",
       "    <tr>\n",
       "      <th>6578</th>\n",
       "      <td>USGS</td>\n",
       "      <td>8220000</td>\n",
       "      <td>2019-01-05</td>\n",
       "      <td>105.0</td>\n",
       "      <td>A:e</td>\n",
       "      <td>2019-01-05</td>\n",
       "      <td>1970-01-01 00:00:00.000000105</td>\n",
       "    </tr>\n",
       "  </tbody>\n",
       "</table>\n",
       "</div>"
      ],
      "text/plain": [
       "        5s      15s         20d    14n  10s       date  \\\n",
       "6574  USGS  8220000  2019-01-01   86.0  A:e 2019-01-01   \n",
       "6575  USGS  8220000  2019-01-02   88.0  A:e 2019-01-02   \n",
       "6576  USGS  8220000  2019-01-03   92.0  A:e 2019-01-03   \n",
       "6577  USGS  8220000  2019-01-04  100.0  A:e 2019-01-04   \n",
       "6578  USGS  8220000  2019-01-05  105.0  A:e 2019-01-05   \n",
       "\n",
       "                         discharge  \n",
       "6574 1970-01-01 00:00:00.000000086  \n",
       "6575 1970-01-01 00:00:00.000000088  \n",
       "6576 1970-01-01 00:00:00.000000092  \n",
       "6577 1970-01-01 00:00:00.000000100  \n",
       "6578 1970-01-01 00:00:00.000000105  "
      ]
     },
     "execution_count": 2,
     "metadata": {},
     "output_type": "execute_result"
    }
   ],
   "source": [
    "# codes\n",
    "import pandas as pd\n",
    "year = 2019\n",
    "filename = 'https://waterservices.usgs.gov/nwis/dv/?sites=08220000&format=rdb&startDT=2001-01-01&parameterCd=00060'\n",
    "pdi = pd.read_table(filename,skiprows=29)\n",
    "pdi['date'] = pd.to_datetime(pdi['20d'])\n",
    "pdi['discharge'] = pd.to_datetime(pdi['14n'])\n",
    "mask = pdi['date'].dt.year == int(year)\n",
    "pdi = pdi[mask]\n",
    "pdi.head()"
   ]
  },
  {
   "cell_type": "code",
   "execution_count": 3,
   "metadata": {},
   "outputs": [
    {
     "data": {
      "text/html": [
       "<div>\n",
       "<style scoped>\n",
       "    .dataframe tbody tr th:only-of-type {\n",
       "        vertical-align: middle;\n",
       "    }\n",
       "\n",
       "    .dataframe tbody tr th {\n",
       "        vertical-align: top;\n",
       "    }\n",
       "\n",
       "    .dataframe thead th {\n",
       "        text-align: right;\n",
       "    }\n",
       "</style>\n",
       "<table border=\"1\" class=\"dataframe\">\n",
       "  <thead>\n",
       "    <tr style=\"text-align: right;\">\n",
       "      <th></th>\n",
       "      <th>DEL NORTE 2E</th>\n",
       "      <th>maxt</th>\n",
       "      <th>mint</th>\n",
       "      <th>pcpn</th>\n",
       "      <th>snow</th>\n",
       "      <th>date</th>\n",
       "    </tr>\n",
       "  </thead>\n",
       "  <tbody>\n",
       "    <tr>\n",
       "      <th>6940</th>\n",
       "      <td>2019-01-01</td>\n",
       "      <td>21</td>\n",
       "      <td>5</td>\n",
       "      <td>0.28</td>\n",
       "      <td>2.3</td>\n",
       "      <td>2019-01-01</td>\n",
       "    </tr>\n",
       "    <tr>\n",
       "      <th>6941</th>\n",
       "      <td>2019-01-02</td>\n",
       "      <td>19</td>\n",
       "      <td>-1</td>\n",
       "      <td>T</td>\n",
       "      <td>T</td>\n",
       "      <td>2019-01-02</td>\n",
       "    </tr>\n",
       "    <tr>\n",
       "      <th>6942</th>\n",
       "      <td>2019-01-03</td>\n",
       "      <td>12</td>\n",
       "      <td>-5</td>\n",
       "      <td>0.00</td>\n",
       "      <td>0.0</td>\n",
       "      <td>2019-01-03</td>\n",
       "    </tr>\n",
       "    <tr>\n",
       "      <th>6943</th>\n",
       "      <td>2019-01-04</td>\n",
       "      <td>13</td>\n",
       "      <td>-5</td>\n",
       "      <td>0.00</td>\n",
       "      <td>0.0</td>\n",
       "      <td>2019-01-04</td>\n",
       "    </tr>\n",
       "    <tr>\n",
       "      <th>6944</th>\n",
       "      <td>2019-01-05</td>\n",
       "      <td>26</td>\n",
       "      <td>2</td>\n",
       "      <td>0.00</td>\n",
       "      <td>0.0</td>\n",
       "      <td>2019-01-05</td>\n",
       "    </tr>\n",
       "  </tbody>\n",
       "</table>\n",
       "</div>"
      ],
      "text/plain": [
       "     DEL NORTE 2E maxt mint  pcpn snow       date\n",
       "6940   2019-01-01   21    5  0.28  2.3 2019-01-01\n",
       "6941   2019-01-02   19   -1     T    T 2019-01-02\n",
       "6942   2019-01-03   12   -5  0.00  0.0 2019-01-03\n",
       "6943   2019-01-04   13   -5  0.00  0.0 2019-01-04\n",
       "6944   2019-01-05   26    2  0.00  0.0 2019-01-05"
      ]
     },
     "execution_count": 3,
     "metadata": {},
     "output_type": "execute_result"
    }
   ],
   "source": [
    "import pandas as pd\n",
    "filename = \"https://raw.githubusercontent.com/UCL-EO/geog0111/master/data/delNorteT.dat\"\n",
    "df = pd.read_table(filename)\n",
    "df['date'] = pd.to_datetime(df['DEL NORTE 2E'])\n",
    "mask = df['date'].dt.year == int(year)\n",
    "df = df[mask]\n",
    "df.head()\n"
   ]
  },
  {
   "cell_type": "code",
   "execution_count": 10,
   "metadata": {},
   "outputs": [
    {
     "data": {
      "text/plain": [
       "[<matplotlib.lines.Line2D at 0x7f8d77a303d0>]"
      ]
     },
     "execution_count": 10,
     "metadata": {},
     "output_type": "execute_result"
    },
    {
     "data": {
      "image/png": "[encoded data removed]",
      "text/plain": [
       "<Figure size 432x288 with 1 Axes>"
      ]
     },
     "metadata": {
      "needs_background": "light"
     },
     "output_type": "display_data"
    }
   ],
   "source": [
    "\n",
    "import matplotlib.pyplot as plt\n",
    "import numpy as np\n",
    "\n",
    "Q = np.array(pdi['discharge']).astype(float)\n",
    "Q = Q/Q.sum()\n",
    "\n",
    "plt.plot(pdi['date'],Q*10000)\n",
    "plt.plot(df['date'],np.array(df['maxt']).astype(float))"
   ]
  },
  {
   "cell_type": "code",
   "execution_count": null,
   "metadata": {},
   "outputs": [],
   "source": []
  }
 ],
 "metadata": {
  "kernelspec": {
   "display_name": "Python 3",
   "language": "python",
   "name": "python3"
  },
  "language_info": {
   "codemirror_mode": {
    "name": "ipython",
    "version": 3
   },
   "file_extension": ".py",
   "mimetype": "text/x-python",
   "name": "python",
   "nbconvert_exporter": "python",
   "pygments_lexer": "ipython3",
   "version": "3.8.5"
  }
 },
 "nbformat": 4,
 "nbformat_minor": 4
}
