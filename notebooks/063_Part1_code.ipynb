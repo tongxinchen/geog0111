{
 "cells": [
  {
   "cell_type": "markdown",
   "metadata": {},
   "source": [
    "\n",
    "<img alt='UCL' src=\"images/ucl_logo.png\" align='center'>\n",
    "\n",
    "\n"
   ]
  },
  {
   "cell_type": "markdown",
   "metadata": {},
   "source": [
    "# Assessed Practical Part A"
   ]
  },
  {
   "cell_type": "markdown",
   "metadata": {},
   "source": [
    "## Introduction"
   ]
  },
  {
   "cell_type": "markdown",
   "metadata": {},
   "source": [
    "### Task overview"
   ]
  },
  {
   "cell_type": "markdown",
   "metadata": {},
   "source": [
    "In this task, you will be writing codes that download and interpret (convert units) for two datasets of the Del Norte catchment in Colorado, USA for the years 2015-2019 inclusive. The main coding exercise is a Python script that when you run it, downloads the data and stores them in CSV format files. In a notebook, you run the script and show the results. In a second notebook, you produce plots of the datasets. You save the code and two notebooks to PDF files, and submit the work."
   ]
  },
  {
   "cell_type": "markdown",
   "metadata": {},
   "source": [
    "### Submission\n",
    "\n",
    "The due dates for the two formally assessed pieces of coursework are:\n",
    "\n",
    "        Part A: 16th Nov, 2020 (50% of final mark) - first Monday after reading week.\n",
    "        Part B: 11th Jan, 2021 (50% of final mark) - first day of term 2\n",
    "\n",
    "The practical comes in two parts : (A) data preparation (50%); (B) modelling (50%). \n",
    "\n",
    "Submission is through the usual Turnitin link on the [course Moodle page](https://moodle-1819.ucl.ac.uk/course/view.php?id=2796#section-4). You must submit your notebooks and codes as `pdf` files.\n",
    "\n",
    "\n",
    "### Checklist\n",
    "    \n",
    "    * You should be submitting 3 PDF files:\n",
    "        * work/get_DelNorte_data.py\n",
    "        * notebook showing running of running work/get_DelNorte_data.py\n",
    "        * notebook showing graphs of Del Norte data\n",
    "    * None of these files should be more than a few pages long: we do not want you to print or submit the datasets you download.\n"
   ]
  },
  {
   "cell_type": "markdown",
   "metadata": {},
   "source": [
    "##  Background\n",
    "\n",
    "The hydrology of the Rio Grande Headwaters in Colorado, USA is snowmelt dominated. It varies considerably from year to year and may very further under a changing climate. One of the tools we use to understand monitor processes in such an area is a mathemetical ('environmental') model describing the main physical processes affecting hydrology in the catchment. Such a model could help understand current behaviour and allow some prediction about possible future scenarios. \n",
    "\n",
    "In part 2 of your assessment you will be using, calibrating and validating such a model that relates temperature and snow cover in the catchment to river flow. \n",
    "![](https://www.blm.gov/sites/blm.gov/files/hero_backgrounds/NM_Rio_Grande_del_Norte_Sign_640.jpg)\n",
    "\n",
    "We will use the model to describe the streamflow at the Del Norte measurement station, just on the edge of the catchment. You will use environmental (temperature) data and snow cover observations to drive the model. You will perform calibration and testing by comparing model output with observed streamflow data.\n",
    "\n",
    "### Del Norte\n",
    "\n",
    "Further general information is available from various [websites](http://www.usclimatedata.com/climate.php?location=USCO0103), including [NOAA](http://www.ncdc.noaa.gov).\n",
    "\n",
    "![www.coloradofishing.net](http://www.coloradofishing.net/images/fishtails/ft_riogrande3.jpg)\n",
    "\n",
    "\n",
    "\n",
    "You can visualise the site Del Norte 2E  [here](http://mesonet.agron.iastate.edu/sites/site.php?station=CO2184&network=COCLIMATE).\n",
    "\n",
    "\n"
   ]
  },
  {
   "cell_type": "markdown",
   "metadata": {},
   "source": [
    "## Requirements for this submission\n",
    "\n",
    "In this part of the assessment, you will need to write computer codes to read, interpret and plot the various environmental datasets we will be using in Part 2,\n"
   ]
  },
  {
   "cell_type": "markdown",
   "metadata": {},
   "source": [
    "To complete this practical you will need to access, read, save and plot the following datasets:\n",
    "\n",
    "* **Stream discharge** from the USGS [http://waterdata.usgs.gov](http://waterservices.usgs.gov/nwis/dv/?sites=08220000&format=rdb&startDT=2001-01-01&parameterCd=00060).\n",
    "\n",
    "* **Temperature**: Temperature data from:\n",
    "    * [Berkley Earth](http://berkeleyearth.lbl.gov/station-list/stations/32442) OR\n",
    "    * the Colorado State [Climate data site](http://climate.colostate.edu/data_access.html) OR\n",
    "    * a [local copy of the data](https://raw.githubusercontent.com/UCL-EO/geog0111/master/data/delNorteT.dat) from the Colorado State Climate data site.\n",
    "    \n",
    "The reason for giving multiple access methods for the temperature data is that we have founbf the [Berkley Earth](http://berkeleyearth.lbl.gov/station-list/stations/32442) site to be sometime unresponsive. The problem with the Colorado State [Climate data site](http://climate.colostate.edu/data_access.html) is that you cannot directly query or download the data. Instead you will need to manually save the data, most easily by copying and pasting the data columns into a file. The final option is a copy of the data from the Colorado State [Climate data site](http://climate.colostate.edu/data_access.html). We try to keep this up to date on an annual basis, but cannot guarantee that. You may choose which method you use, but you may find it useful to explore the climate data sites further rather than simply relying on the dataset we have prepared."
   ]
  },
  {
   "cell_type": "markdown",
   "metadata": {},
   "source": [
    "## Access\n",
    "\n",
    "You should examine the data on the site links above and make sure you understand the file format and data characteristics. \n",
    "\n",
    "#### Units \n",
    "\n",
    "You need to make a note of the units the physical parameters (temperature, discharge etc.) datasets are presented in as you will need to convert them to the units we specify below. The temperature data from the Colorado State [Climate data site](http://climate.colostate.edu/data_access.html) comes in Fahrenheit.\n",
    "\n",
    "#### Header\n",
    "\n",
    "Make a note of the number of 'header' lines in the files (if any) and the column headings (if given) as you may need to specify these when reading the dataset.\n",
    "\n",
    "#### Data access\n",
    "\n",
    "Before going further, you should use a Jupyter notebook or iPython in a terminal to make sure you can access and interpret these files. There are only two files, so this should not take too long. \n",
    "\n",
    "You will most likely want to use `pandas` to do this, and should have gained experience in this already in the course. Try first to use the dataset URL to load into `pandas`, except if you download the Colorado State [Climate data site](http://climate.colostate.edu/data_access.html) to a file (then, read from that file). You may need to try out several options in reading the data into `pandas` if it does not automatically load correctly. In that case, remember that you can skip header lines, and get `pandas` to read only the data lines. You should be able to print the pandas dataframe to see that the data in your table corresponds to what you can see when you access data with a URL.\n",
    "\n"
   ]
  },
  {
   "cell_type": "markdown",
   "metadata": {},
   "source": [
    "## Task 1: Data preparation code\n",
    "\n",
    "In this task, you must write a Python script that you should call `work/get_DelNorte_data.py`. \n",
    "\n",
    "* Within this file, create a function called `get_DelNorte_data` that has the following argument:\n",
    "\n",
    "        year     : integer, between 2000 and the year previous to now (i.e. not this year)\n",
    "    \n",
    "  and that returns a dictionary OR `pandas` dataframe containing:\n",
    "\n",
    "        doy      : array of 365/366 values with the day of year\n",
    "        flow     : stream flow data for each in units of megalitres/day \n",
    "                   (ML/day i.e. units of 1000000 litres a day)\n",
    "        maxt     : Maximum daily temperature in Celcius (C)\n",
    "\n",
    "  You can use multiple sub-functions that you call from you function, should you so wish.\n",
    "  \n",
    "* Within this file `work/get_DelNorte_data.py` create a function called `write_DelNorte_data` that takes as argument:\n",
    "\n",
    "        year     : integer, between 2000 and the year previous to now (i.e. not this year)\n",
    "\n",
    "  then makes a call to `get_DelNorte_data` for the year specified, and saves the dataset in CSV format to a file `work/DelNorte_data_YYYY.csv` each year (replace `YYYY` by the year)\n",
    "\n",
    "* Within this file `work/get_DelNorte_data.py` create a function called `main` that runs `get_DelNorte_data` for the years 2015 to 2019 inclusive. \n",
    "\n",
    "* Construct the Python script so that when you run `work/get_DelNorte_data.py` from a command line, it executes the `main()` function.\n",
    "\n",
    "* Make the file `work/get_DelNorte_data.py` executable\n",
    "\n",
    "* In a Python notebook, run the script `work/get_DelNorte_data.py`, and show the size of the files `work/DelNorte_data_*.csv` created.\n",
    "\n",
    "Hints: Don't forget to include the various packages you need at the top of the file. Don't forget to put docstrings and comments in your file and functions."
   ]
  },
  {
   "cell_type": "markdown",
   "metadata": {},
   "source": [
    "## Task 2: Data visualisation\n",
    "\n",
    "* In a Python notebook, produce plots for the Del Norte site of:\n",
    "\n",
    "    1. Stream flow data for each year 2015 to 2019 inclusive (in units of megalitres/day - ML/day i.e. units of 1000000 litres a day), as a function of day of year.\n",
    "    2. Maximum daily temperature in Celcius (C) for each year 2015 to 2019 inclusive as a function of day of year.\n",
    "\n",
    "You should position the 4 years of data in a 2x2 grid of sub-plots. You code should be well-commented to explain what you are doing. The graphs should be clear, with appropriate titles and axis labels."
   ]
  },
  {
   "cell_type": "markdown",
   "metadata": {},
   "source": [
    "### Coursework"
   ]
  },
  {
   "cell_type": "markdown",
   "metadata": {},
   "source": [
    "You need to submit you coursework in the usual manner by the date given above.\n",
    "\n",
    "You **must** work individually on this task. If you do not, it will be treated as plagiarism. By reading these instructions for this exercise, we assume that you are aware of the UCL rules on plagiarism. You can find more information on this matter in your student handbook. If in doubt about what might constitute plagiarism, ask one of the course conveners.\n",
    "\n"
   ]
  },
  {
   "cell_type": "markdown",
   "metadata": {},
   "source": [
    "### Structure of the Report"
   ]
  },
  {
   "cell_type": "markdown",
   "metadata": {},
   "source": [
    "The required elements of the report are:\n",
    "\n",
    "1. Code function `get_DelNorte_data` for temperature and river discharge data download, reading and putting into a dictionary `[40%]`. \n",
    "2. Code function `write_DelNorte_data` saves the dataset for a given year to a file in CSV format `[10%]`.\n",
    "3. Code function `main` that runs get_DelNorte_data for the years 2015 to 2019 inclusive `[10%]`.\n",
    "4. Additional features of `work/get_DelNorte_data.py` for running as a script `[5%]`.\n",
    "5. Notebook 1: Demonstration of running the script `work/get_DelNorte_data.py` and the outputs `[15%]`.\n",
    "6. Notebook 2: Stream flow data plots `[10%]`.\n",
    "7. Notebook 2: Maximum daily temperature data plots `[10%]`.\n",
    "    \n",
    "The figures in brackets indicate the percentage of marks associated with each part. Even if, for some reason, you were unable to generate outputs from your code, you should still be able to pick up marks by attempting all or most of the sections. Most of the marks are given for your computer code, so make sure this is clearly laid out and well-documented. See the comments below regarding what we expect of submitted codes."
   ]
  },
  {
   "cell_type": "markdown",
   "metadata": {},
   "source": [
    "### Computer Code"
   ]
  },
  {
   "cell_type": "markdown",
   "metadata": {},
   "source": [
    "#### General requirements\n",
    "\n",
    "You will obviously need to submit computer codes as part of this assessment. Some flexibility in the style of these codes is to be expected. For example, when asked to write a function, so students might choose to modularise and test the problem further and have multiple sub-functions that are finally called from the required function. This is fine to do, and can often be a good idea if the problem is complex or there are re-usable modular parts of code you might want to use (e.g. for printing). \n",
    "\n",
    "If you want to achieve distinction-level marks, then, on top of the main requirements we lay out here, we would be looking for features such as: maturity and detail in testing your codes; excellent code style; excellent presentation; and flexibility in the code (e.g. don't fix variable you can make variables or keywords).\n",
    "\n",
    "All codes needed to demonstrate that you have performed the core tasks are required to be included in the submission. \n",
    "\n",
    "All codes should be well-commented. Part of the marks you get for code will depend on the adequacy of the document strings and commenting.\n",
    "\n",
    "#### Degree of original work required and plagiarism\n",
    "\n",
    "If you use a piece of code verbatim that you have taken from the course pages or any other source, **you must acknowledge this** in comments in your text. **Not to do so is plagiarism**. Where you have taken some part (e.g. a few lines) of someone else's code, **you should also indicate this**. If some of your code is heavily based on code from elsewhere, **you must also indicate that**.\n",
    "\n",
    "Some examples. \n",
    "\n",
    "The first example is guilty of strong plagiarism, it does not seek to acknowledge the source of this code of code from one of the course pages, even though it is just a direct copy, pasted into a method called `model()`:"
   ]
  },
  {
   "cell_type": "code",
   "execution_count": 50,
   "metadata": {
    "ExecuteTime": {
     "end_time": "2017-11-21T19:49:29.355926Z",
     "start_time": "2017-11-21T19:49:29.345443Z"
    }
   },
   "outputs": [],
   "source": [
    "def model(tempThresh=9.0,K=2000.0,p=0.96):\n",
    "    '''...'''\n",
    "    import numpy as np\n",
    "    meltDays = np.where(temperature > tempThresh)[0]\n",
    "    accum = snowProportion*0.\n",
    "    for d in meltDays:\n",
    "        water = K * snowProportion[d]\n",
    "        n = np.arange(len(snowProportion)) - d\n",
    "        m = p ** n\n",
    "        m[np.where(n<0)]=0\n",
    "        accum += m * water\n",
    "    return accum"
   ]
  },
  {
   "cell_type": "markdown",
   "metadata": {},
   "source": [
    "This is **not** acceptable.\n",
    "\n",
    "This would be better as:"
   ]
  },
  {
   "cell_type": "code",
   "execution_count": 51,
   "metadata": {},
   "outputs": [],
   "source": [
    "'''\n",
    "This code is taken directly from\n",
    "\"Modelling delay in a hydrological network\"\n",
    "by P. Lewis http://www2.geog.ucl.ac.uk/~plewis/geogg122/DelNorte.html\n",
    "and wrapped into a method.\n",
    "'''\n",
    "def model(tempThresh=9.0,K=2000.0,p=0.96):\n",
    "    '''...'''\n",
    "    # my code: make sure numpy is imported\n",
    "    import numpy as np\n",
    "\n",
    "    # code below verbatim from Lewis REF XXX\n",
    "    meltDays = np.where(temperature > tempThresh)[0]\n",
    "    accum = snowProportion*0.\n",
    "    for d in meltDays:\n",
    "        water = K * snowProportion[d]\n",
    "        n = np.arange(len(snowProportion)) - d\n",
    "        m = p ** n\n",
    "        m[np.where(n<0)]=0\n",
    "        accum += m * water\n",
    "    # my code: return accumulator\n",
    "    return accum"
   ]
  },
  {
   "cell_type": "markdown",
   "metadata": {},
   "source": [
    "Now, we acknowledge that this is in essence a direct copy of someone else’s code, and clearly state this. We do also show that we have added some new lines to the code, and that we have wrapped this into a method.\n",
    "\n",
    "In the next example, we have seen that the way m is generated is in fact rather inefficient, and have re-structured the code. It is partially developed from the original code, and acknowledges this:"
   ]
  },
  {
   "cell_type": "code",
   "execution_count": 34,
   "metadata": {
    "ExecuteTime": {
     "end_time": "2017-11-21T19:49:32.108956Z",
     "start_time": "2017-11-21T19:49:32.097823Z"
    }
   },
   "outputs": [],
   "source": [
    "'''\n",
    "This code after the model developed in\n",
    "\"Modelling delay in a hydrological network\"\n",
    "by P. Lewis\n",
    "http://www2.geog.ucl.ac.uk/~plewis/geogg122/DelNorte.html\n",
    "\n",
    "My modifications have been to make the filtering more efficient.\n",
    "'''\n",
    "def model(tempThresh=9.0,K=2000.0,p=0.96):\n",
    "    '''...'''\n",
    "\n",
    "    # my code: make sure numpy is imported\n",
    "    import numpy as np\n",
    "\n",
    "    # code below verbatim from Lewis unless otherwise indicated\n",
    "    meltDays = np.where(temperature > tempThresh)[0]\n",
    "    accum = snowProportion*0.\n",
    "\n",
    "    # my code: pull the filter block out of the loop\n",
    "    n = np.arange(len(snowProportion))\n",
    "    m = p ** n\n",
    "\n",
    "    for d in meltDays:\n",
    "        water = K * snowProportion[d]\n",
    "\n",
    "        # my code: shift the filter on by one day\n",
    "        # ...do something clever to shift it on by one day\n",
    "\n",
    "        accum += m * water\n",
    "    # my code: return accumulator\n",
    "    return accum"
   ]
  },
  {
   "cell_type": "markdown",
   "metadata": {},
   "source": [
    "This example makes it clear that significant modifications have been made to the code structure (and probably to its efficiency) although the basic model and looping comes from an existing piece of code. It clearly highlights what the actual modifications have been. Note that this is not a working example! Note also that this is a poor example of a function, as there is no real document string and little comment on the code operation.\n",
    "\n",
    "We stress that this must be your own work. We do not want you to get anyone else to significantly helped you to develop the code (e.g. written the main part of it for you & you've just copied that with some minor modifications). This is not acceptable, but if for some reason it does happen, you must acknowledge it in your submission.\n",
    "\n",
    "If you take a piece of code from somewhere else and all you do is change the variable names and/or other cosmetic changes, you **must** acknowledge the source of the original code (with a URL if available).\n",
    "\n",
    "Plagiarism in coding is a tricky issue. One reason for that is that often the best way to learn something like this is to find an example that someone else has written and adapt that to your purposes. Equally, if someone has written some tool/library to do what you want to do, it would generally not be worthwhile for you to write your own but to concentrate on using that to achieve something new. Even in general code writing (i.e. when not submitting it as part of your assessment) you and anyone else who ever has to read your code would find it of value to make reference to where you found the material to base what you did on. The key issue to bear in mind in this work, as it is submitted ‘as your own work’ is that, to avoid being accused of plagiarism and to allow a fair assessment of what you have done, you must clearly acknowledge which parts of it are your own, and the degree to which you could claim them to be your own.\n",
    "\n",
    "For example, based on ... is absolutely fine, and you would certainly be given credit for what you have done. In many circumstances 'taken verbatim from ...' would also be fine (provided it is acknowledged) but then you would be given credit for what you had done with the code that you had taken from elsewhere (e.g. you find some elegant way of doing the graphs that someone has written and you make use of it for presenting your results).\n",
    "\n",
    "The difference between what you submit here and the code you might write if this were not a piece submitted for assessment is that you the vast majority of the credit you will gain for the code will be based on the degree to which you demonstrate that you can write code to achieve the required tasks. There would obviously be some credit for taking codes from the coursenotes and bolting them together into something that achieves the overall aim: provided that worked, and you had commented it adequately and acknowledge what the extent of your efforts had been, you should be able to achieve a pass in that component of the work. If there was no original input other than vbolting pieces of existing code together though, you be unlikely to achieve more than a pass. If you get less than a pass in another component of the coursework, that then puts you in danger of an overall fail.\n",
    "\n",
    "Provided you achieve the core tasks, the more original work that you do/show (that is of good quality), the higher the mark you will get. Once you have achieved the core tasks, even if you try something and don’t quite achieve it, is is probably worth including, as you may get marks for what you have done (or that fact that it was a good or interesting thing to try to do)."
   ]
  },
  {
   "cell_type": "markdown",
   "metadata": {},
   "source": [
    "#### Documentation\n",
    "\n",
    "Note: All methods/functions and classes must be documented for the code to be adequate. Generally, this will contain:\n",
    "\n",
    "   - some text on the purpose of the method (/function/class)\n",
    "\n",
    "   - some text describing the inputs and outputs, including reference to any relevant details such as datatype, shape etc where such things are of relevance to understanding the code.\n",
    "\n",
    "   - some text on keywords, e.g.:"
   ]
  },
  {
   "cell_type": "code",
   "execution_count": 31,
   "metadata": {
    "ExecuteTime": {
     "end_time": "2017-11-21T19:49:34.566235Z",
     "start_time": "2017-11-21T19:49:34.557952Z"
    }
   },
   "outputs": [],
   "source": [
    "def complex(real=0.0, imag=0.0):\n",
    "    \"\"\"Form a complex number.\n",
    "\n",
    "    Keyword arguments:\n",
    "    real -- the real part (default 0.0)\n",
    "    imag -- the imaginary part (default 0.0)\n",
    "\n",
    "    Example taken verbatim from:\n",
    "    http://www.python.org/dev/peps/pep-0257/\n",
    "    \"\"\"\n",
    "    if imag == 0.0 and real == 0.0: return complex_zero\n"
   ]
  },
  {
   "cell_type": "markdown",
   "metadata": {},
   "source": [
    "You should look at the [document on good docstring conventions](http://www.python.org/dev/peps/pep-0257/) when considering how to document methods, classes etc.\n",
    "\n",
    "To demonstrate your documentation, you **must** include the help text generated by your code after you include the code. e.g.:"
   ]
  },
  {
   "cell_type": "code",
   "execution_count": 35,
   "metadata": {
    "ExecuteTime": {
     "end_time": "2017-11-21T19:49:36.343661Z",
     "start_time": "2017-11-21T19:49:36.337210Z"
    }
   },
   "outputs": [],
   "source": [
    "def print_something(this,stderr=False):\n",
    "    '''This does something.\n",
    "\n",
    "    Keyword arguments:\n",
    "    stderr -- set to True to print to stderr (default False)\n",
    "    '''\n",
    "\n",
    "    if stderr:\n",
    "        # import sys.stderr\n",
    "        from sys import stderr\n",
    "\n",
    "        # print to stderr channel, converting this to str\n",
    "        print >> stderr,str(this)\n",
    "\n",
    "        # job done, return\n",
    "        return\n",
    "\n",
    "    # print to stdout, converting this to str\n",
    "    print (str(this))\n",
    "\n",
    "    return\n"
   ]
  },
  {
   "cell_type": "markdown",
   "metadata": {},
   "source": [
    "Then the help text would be:"
   ]
  },
  {
   "cell_type": "code",
   "execution_count": 36,
   "metadata": {
    "ExecuteTime": {
     "end_time": "2017-11-21T19:49:37.654141Z",
     "start_time": "2017-11-21T19:49:37.649675Z"
    }
   },
   "outputs": [
    {
     "name": "stdout",
     "output_type": "stream",
     "text": [
      "Help on function print_something in module __main__:\n",
      "\n",
      "print_something(this, stderr=False)\n",
      "    This does something.\n",
      "    \n",
      "    Keyword arguments:\n",
      "    stderr -- set to True to print to stderr (default False)\n",
      "\n"
     ]
    }
   ],
   "source": [
    "help(print_something)"
   ]
  },
  {
   "cell_type": "markdown",
   "metadata": {},
   "source": [
    "The above example represents a ‘good’ level of commenting as the code broadly adheres to the style suggestions and most of the major features are covered. It is not quite ‘very good/excellent’ as the description of the purpose of the method (rather important) is trivial and it fails to describe the input this in any way. An excellent piece would do all of these things, and might well tell us about any dependencies (e.g. requires sys if stderr set to True).\n",
    "\n",
    "An inadequate example would be:"
   ]
  },
  {
   "cell_type": "code",
   "execution_count": 38,
   "metadata": {
    "ExecuteTime": {
     "end_time": "2017-11-21T19:49:39.641877Z",
     "start_time": "2017-11-21T19:49:39.635030Z"
    }
   },
   "outputs": [],
   "source": [
    "def print_something(this,stderr=False):\n",
    "    '''This prints something'''\n",
    "    if stderr:\n",
    "        from sys import stderr\n",
    "        print >> stderr,str(this)\n",
    "        return\n",
    "    print (str(this))"
   ]
  },
  {
   "cell_type": "markdown",
   "metadata": {},
   "source": [
    "It is inadequate because it still only has a trivial description of the purpose of the method, it tells us nothing about inputs/outputs and there is no commenting inside the method."
   ]
  },
  {
   "cell_type": "markdown",
   "metadata": {},
   "source": [
    "#### Word limit\n",
    "\n",
    "There is no word limit per se on the computer codes, though as with all writing, you should try to be succint rather than overly verbose.\n",
    "\n",
    "#### Code style\n",
    "\n",
    "A good to excellent piece of code would take into account issues raised in the [style guide](http://www.python.org/dev/peps/pep-0008/). The ‘degree of excellence’ would depend on how well you take those points on board."
   ]
  },
  {
   "cell_type": "markdown",
   "metadata": {},
   "source": [
    "\n",
    "[<img src=\"images/noun_post_2109127.svg\" width=\"50\" align='right'>](016_Python_for.ipynb)\n",
    "[<img src=\"images/noun_pre_2109128.svg\" width=\"50\" align='right'>](018_Python_xxx.ipynb)\n"
   ]
  }
 ],
 "metadata": {
  "kernelspec": {
   "display_name": "Python [conda env:geog0111-geog0111]",
   "language": "python",
   "name": "conda-env-geog0111-geog0111-py"
  },
  "language_info": {
   "codemirror_mode": {
    "name": "ipython",
    "version": 3
   },
   "file_extension": ".py",
   "mimetype": "text/x-python",
   "name": "python",
   "nbconvert_exporter": "python",
   "pygments_lexer": "ipython3",
   "version": "3.7.8"
  },
  "latex_envs": {
   "LaTeX_envs_menu_present": true,
   "autocomplete": true,
   "bibliofile": "biblio.bib",
   "cite_by": "apalike",
   "current_citInitial": 1,
   "eqLabelWithNumbers": true,
   "eqNumInitial": 0,
   "hotkeys": {
    "equation": "Ctrl-E",
    "itemize": "Ctrl-I"
   },
   "labels_anchors": false,
   "latex_user_defs": false,
   "report_style_numbering": false,
   "user_envs_cfg": false
  },
  "toc": {
   "base_numbering": 1,
   "nav_menu": {},
   "number_sections": false,
   "sideBar": true,
   "skip_h1_title": false,
   "title_cell": "Table of Contents",
   "title_sidebar": "Contents",
   "toc_cell": true,
   "toc_position": {
    "height": "calc(100% - 180px)",
    "left": "10px",
    "top": "150px",
    "width": "362.1875px"
   },
   "toc_section_display": "block",
   "toc_window_display": true
  }
 },
 "nbformat": 4,
 "nbformat_minor": 4
}
