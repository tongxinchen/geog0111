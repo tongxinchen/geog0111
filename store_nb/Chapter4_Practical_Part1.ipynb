{
 "cells": [
  {
   "cell_type": "markdown",
   "metadata": {
    "toc": "true"
   },
   "source": [
    "<h1>Table of Contents<span class=\"tocSkip\"></span></h1>\n",
    "<div class=\"toc\"><ul class=\"toc-item\"><li><span><a href=\"#4.-Assessed-Practical\" data-toc-modified-id=\"4.-Assessed-Practical-1\">4. Assessed Practical</a></span><ul class=\"toc-item\"><li><span><a href=\"#4.1-Introduction\" data-toc-modified-id=\"4.1-Introduction-1.1\">4.1 Introduction</a></span><ul class=\"toc-item\"><li><span><a href=\"#4.1.1-Task-overview\" data-toc-modified-id=\"4.1.1-Task-overview-1.1.1\">4.1.1 Task overview</a></span></li></ul></li><li><span><a href=\"#4.1.2-Purpose-of-the-work\" data-toc-modified-id=\"4.1.2-Purpose-of-the-work-1.2\">4.1.2 Purpose of the work</a></span><ul class=\"toc-item\"><li><span><a href=\"#4.2.1.1-Del-Norte\" data-toc-modified-id=\"4.2.1.1-Del-Norte-1.2.1\">4.2.1.1 Del Norte</a></span></li><li><span><a href=\"#4.2.1.2-Discharge-dataset\" data-toc-modified-id=\"4.2.1.2-Discharge-dataset-1.2.2\">4.2.1.2 Discharge dataset</a></span></li><li><span><a href=\"#4.2.1.3-Temperature-dataset\" data-toc-modified-id=\"4.2.1.3-Temperature-dataset-1.2.3\">4.2.1.3 Temperature dataset</a></span></li><li><span><a href=\"#4.2.1.4-Snow-cover-dataset\" data-toc-modified-id=\"4.2.1.4-Snow-cover-dataset-1.2.4\">4.2.1.4 Snow cover dataset</a></span></li><li><span><a href=\"#4.2.2-Data-Advice\" data-toc-modified-id=\"4.2.2-Data-Advice-1.2.5\">4.2.2 Data Advice</a></span><ul class=\"toc-item\"><li><span><a href=\"#4.2.2.1-MODIS-snow-cover-data\" data-toc-modified-id=\"4.2.2.1-MODIS-snow-cover-data-1.2.5.1\">4.2.2.1 MODIS snow cover data</a></span></li><li><span><a href=\"#4.2.3.2-Boundary-Data\" data-toc-modified-id=\"4.2.3.2-Boundary-Data-1.2.5.2\">4.2.3.2 Boundary Data</a></span></li><li><span><a href=\"#4.2.3.3-Discharge-Data\" data-toc-modified-id=\"4.2.3.3-Discharge-Data-1.2.5.3\">4.2.3.3 Discharge Data</a></span></li><li><span><a href=\"#4.2.3.4-Temperature-data\" data-toc-modified-id=\"4.2.3.4-Temperature-data-1.2.5.4\">4.2.3.4 Temperature data</a></span></li></ul></li></ul></li><li><span><a href=\"#4.3-Coursework\" data-toc-modified-id=\"4.3-Coursework-1.3\">4.3 Coursework</a></span><ul class=\"toc-item\"><li><span><a href=\"#6.3.1-Summary-of-coursework-requirements\" data-toc-modified-id=\"6.3.1-Summary-of-coursework-requirements-1.3.1\">6.3.1 Summary of coursework requirements</a></span></li><li><span><a href=\"#4.3.2-Summary-of-Advice\" data-toc-modified-id=\"4.3.2-Summary-of-Advice-1.3.2\">4.3.2 Summary of Advice</a></span></li><li><span><a href=\"#4.3.3-Further-advice\" data-toc-modified-id=\"4.3.3-Further-advice-1.3.3\">4.3.3 Further advice</a></span></li><li><span><a href=\"#4.3.4-Structure-of-the-Report\" data-toc-modified-id=\"4.3.4-Structure-of-the-Report-1.3.4\">4.3.4 Structure of the Report</a></span></li><li><span><a href=\"#4.3.5-Computer-Code\" data-toc-modified-id=\"4.3.5-Computer-Code-1.3.5\">4.3.5 Computer Code</a></span><ul class=\"toc-item\"><li><span><a href=\"#General-requirements\" data-toc-modified-id=\"General-requirements-1.3.5.1\">General requirements</a></span></li><li><span><a href=\"#Degree-of-original-work-required-and-plagiarism\" data-toc-modified-id=\"Degree-of-original-work-required-and-plagiarism-1.3.5.2\">Degree of original work required and plagiarism</a></span></li><li><span><a href=\"#Documentation\" data-toc-modified-id=\"Documentation-1.3.5.3\">Documentation</a></span></li><li><span><a href=\"#Word-limit\" data-toc-modified-id=\"Word-limit-1.3.5.4\">Word limit</a></span></li><li><span><a href=\"#Code-style\" data-toc-modified-id=\"Code-style-1.3.5.5\">Code style</a></span></li></ul></li></ul></li></ul></li></ul></div>"
   ]
  },
  {
   "cell_type": "markdown",
   "metadata": {},
   "source": [
    "# 4. Assessed Practical"
   ]
  },
  {
   "cell_type": "markdown",
   "metadata": {},
   "source": [
    "## 4.1 Introduction"
   ]
  },
  {
   "cell_type": "markdown",
   "metadata": {},
   "source": [
    "### 4.1.1 Task overview"
   ]
  },
  {
   "cell_type": "markdown",
   "metadata": {},
   "source": [
    "These notes describe the practical work you must submit for assessment in this course.\n",
    "\n",
    "The practical comes in two parts: (1) data preparation (50%); (2) modelling (50%). \n",
    "\n",
    "**It is important that you complete both parts of this exercise.**\n",
    "\n",
    "The submission for Part 1 of the coursework (worth 50% of the marks) is the Monday after Reading week (12:00 Noon). That is Monday $12^{th}$ November 2018. \n",
    "\n",
    "The submission for Part 2 will be $7^{th}$ January 2019 (12:00 Noon). Submission is through the usual Turnitin link on the [course Moodle page](https://moodle-1819.ucl.ac.uk/course/view.php?id=2796#section-4).\n",
    "\n",
    "\n",
    "- **Part 1: Data Preparation**\n",
    "  \n",
    "     The first task you must complete is to produce a dataset of the proportion of HUC catchment 13010001 (Rio Grande headwaters in Colorado, USA) that is covered by snow for **two years** (not necessarily consecutive), along with associated datasets on temperature (in C) and river discharge at the Del Norte monitoring station. You will use these data in the modelling work in Part 2 of the coursework.\n",
    "     \n",
    "     You **may not** use data from the years 2005 or 2006, as this will be given to you in illustrations of the material.\n",
    "\n",
    "    The dataset you produce must have a value for **the mean snow cover, temperature and discharge in the catchment for every day over each year.**\n",
    "\n",
    "    Your write up **must** include fully labelled graph(s) of snow cover, temperature and discharge for the catchment for each year (with units as appropriate), along with some summary statistics (e.g. mean or median, minimum, maximum, and the timing of these). \n",
    "    \n",
    "    You **must** provide evidence of how you got these data (i.e. the code and commands you ran to produce the data).\n",
    "    \n",
    "**Checklist:**\n",
    "    \n",
    "    * provide fully commented/documented code for all operations.\n",
    "    * provide two years of **daily** data (not 2005 or 2006)\n",
    "    * Generate datasets of:\n",
    "        * mean snow cover (0.0 to 1.0) for the catchment for each day of the year\n",
    "        * temperature (C) at the Del Norte monitoring station for each day of the year\n",
    "        * river discharge at the Del Norte monitoring station for each day of the year\n",
    "    * Produce a table of summary statistics for each of the 3 datasets (one for easch year)\n",
    "    * produce graphs of the 3 datasets for each year (as function of day of year)\n",
    "    * produce an `npz` file containing the 3 datasets, one for each year.\n",
    "    * produce images of snow cover spatial data for the catchment for **13 samples** spaced equally through the year, one set of images for each year. You need to do this for the data pre-interpolation and aftyer you have done the interpolation.\n",
    "    \n",
    "    \n",
    "- **Part 2: Modelling**\n",
    "\n",
    "    You will have prepared two years of data in Part 1 of the work. \n",
    "    \n",
    "    If, for some reason, you have failed to generate an appropriate dataset, you may use datasets that will be provided for you for the years 2005 and 2006. There will be no penalty for that in your Part 2 submission: failure to gernerate the datasets will be accounted for in marks allocated for Part 1.\n",
    "    \n",
    "    You will be given a simple hydrological model of snowmelt.\n",
    "    \n",
    "    Use one of these years to calibrate the (snowmelt) hydrological model and one year to test it. \n",
    "    \n",
    "    The model parameter estimate *must* be objective (i.e. you can't just arbitrarily choose a set) and optimal in some way you must define (you *must* state the equation of the cost function you will try to minimise and explain the approach used).\n",
    "    \n",
    "    You **must** state the values of the model parameters that you have estimated and show evidence for how you went about calculating them. Ideally, you should also state the uncertainty in these parameter estimates (not critical to pass this section though).\n",
    "    \n",
    "    You **must** quantify the goodness of fit between your measured flow data and that produced by your model, both for the calibration exercise and the validation.\n",
    "    \n",
    "**Checklist:**\n",
    "    \n",
    "    * Provide a site intoduction and an introduction to the purpose of the exercise ('Introduction')\n",
    "    * Provide an introduction to the modelling and calibration/validation ('Method') \n",
    "    * provide code that reads in the datasets and performs the model calibration and validation ('Code')\n",
    "    * Provide a table of results on model parameter calibration (and ideally, uncertainty) ('Results')\n",
    "    * Provide graphs of the observed and modelled river discharge data for the calibration year ('Results')\n",
    "    * Provide graphs of the observed and modelled river discharge data for the validation year ('Results')\n",
    "    * Assess the accuracy of the calibration and validation ('Results')\n",
    "    * Discuss the results in the light of the introduction ('Discussion')\n",
    "    * Draw conclusions about issues associated with modelling of this sort ('Conclusion')\n",
    "    \n",
    "\n",
    "You **must** work individually on this task. If you do not, it will be treated as plagiarism. By reading these instructions for this exercise, we assume that you are aware of the UCL rules on plagiarism. You can find more information on this matter in your student handbook. If in doubt about what might constitute plagiarism, ask one of the course convenors."
   ]
  },
  {
   "cell_type": "markdown",
   "metadata": {},
   "source": [
    "## 4.1.2 Purpose of the work\n",
    "\n",
    "The hydrology of the Rio Grande Headwaters in Colorado, USA is snowmelt dominated. It varies considerably from year to year and may very further under a changing climate.\n",
    "\n",
    "We can build a mathemetical ('environmental') model to describe the main physical processes affecting hydrology in the catchment. Such a model could help understand current behaviour and allow some prediction about possible future scenarios.\n",
    "\n",
    "**What you are going to do is to build, calibrate and test a (snowmelt) hydrological model, driven by observations in the Rio Grande Headwaters in Colorado, USA**\n",
    "\n",
    "![](images/calibrate.png)\n",
    "\n",
    "![](https://www.blm.gov/sites/blm.gov/files/hero_backgrounds/NM_Rio_Grande_del_Norte_Sign_640.jpg)\n",
    "\n",
    "The purpose of the model will be to describe the streamflow at the Del Norte measurement station, just on the edge of the catchment. You will use environmental (temperature) data and snow cover observations to drive the model. You will perform calibration and testing by comparing model output with observed streamflow data.\n",
    "\n",
    "### 4.2.1.1 Del Norte\n",
    "\n",
    "The average climate for Del Norte is:\n",
    "\n",
    "![](images/usco0103climatedelnorte.png)\n",
    "\n",
    "Further general information is available from various [websites](http://www.usclimatedata.com/climate.php?location=USCO0103), including [NOAA](http://www.ncdc.noaa.gov).\n",
    "\n",
    "![www.coloradofishing.net](http://www.coloradofishing.net/images/fishtails/ft_riogrande3.jpg)\n",
    "\n",
    "\n",
    "\n",
    "You can visualise the site Del Norte 2E  [here](http://mesonet.agron.iastate.edu/sites/site.php?station=CO2184&network=COCLIMATE).\n",
    "\n",
    "\n"
   ]
  },
  {
   "cell_type": "markdown",
   "metadata": {},
   "source": [
    "### 4.2.1.2 Discharge dataset\n",
    "\n",
    "First we should look at the streamflow/discharge data. \n",
    "\n",
    "The link for downloading data from 2001 onwards (but not the current year until the end of the year): [http://waterdata.usgs.gov](http://waterservices.usgs.gov/nwis/dv/?sites=08220000&format=rdb&startDT=2001-01-01&parameterCd=00060).\n",
    "\n",
    "![](images/discharge.png)\n",
    "\n",
    "You should examine all of the streamflow data and use that to make a decision on which years data you want to use in your experiments. You must justify your decision. You choice coul;d be based on the fact that some particular year shows 'typical' behaviour, or that some set of years seems to encompass the bounds of behaviour. The choies you make here will impact your ability to generalise from your results, so make sure you comment on this.\n",
    "\n",
    "\n",
    "**write some code to download the data, select one of the years that you want, and load the data into numpy arrays of time and streamflow (discharge).**\n",
    "\n",
    "**run the code for the two years of data that you have selected and save the datasets to a file.**\n",
    "\n",
    "### 4.2.1.3 Temperature dataset\n",
    "\n",
    "Go to the Colorado State [Climate data site](http://climate.colostate.edu/data_access.html), select the Del Norte 2E site, and the period for which you want your data (typically, Jan $1^{st}$ to Dec $31^{st}$ for the years you want.\n",
    "\n",
    "You can obtain data on maximum and mimimum temperatures, as well as snowfall and precipitation.\n",
    "\n",
    "As the site doesn't provide a data download mechanism, you will need to save the data, most easily by copying and pasting the data columns into a file. Make a note of what you did here, to include in your write up.\n",
    "\n",
    "You only really need the maximum temperature dataset, but you may find the others helpful for interpretation or to improve your model."
   ]
  },
  {
   "cell_type": "markdown",
   "metadata": {},
   "source": [
    "### 4.2.1.4 Snow cover dataset\n",
    "\n",
    "![](images/snow.png)\n",
    "\n",
    "You need to calculate the **daily snow cover** (values between 0 and 1 for the proportion of the catchment covered in snow) for the catchment (**HUC feature 2** (catchment 13010001)). \n",
    "\n",
    "You would want to use a **daily** snow product for this task, such as that available from MODIS, so make sure you know what that is and explore the characteristics of the dataset.\n",
    "  \n",
    "You will notice from the figure above (the figure should give you some clue as to a suitable data product) that there will be areas of each image for which you have no information (described in the dataset QC). You will need to decide what to do about 'missing data'. For instance, you might consider interpolating over missing values. \n",
    "\n",
    "The simplest thing you might think of might be to produce a mean snow cover over what samples are available (ignoring the missing values). But that would be rather poor. Really, you should apply some sort of interpolation (in time).\n",
    "\n",
    "However you decide to process the data, you must give a rationale for why you have taken the approach you have done. \n",
    "\n",
    "You will notice that if you use MODIS data, you have access to both data from Terra (MOD10A) and Aqua (MYD10A), which potentially gives you two samples per day. Think about how to take that into account. Again, the simplest thing to do might be to just use one of these. That is likely to be sufficient, but it would be much better to include both datasets.\n"
   ]
  },
  {
   "cell_type": "code",
   "execution_count": 42,
   "metadata": {
    "ExecuteTime": {
     "end_time": "2017-11-21T19:41:33.694758Z",
     "start_time": "2017-11-21T19:41:32.863941Z"
    }
   },
   "outputs": [
    {
     "data": {
      "text/plain": [
       "<matplotlib.legend.Legend at 0x10725edd8>"
      ]
     },
     "execution_count": 42,
     "metadata": {},
     "output_type": "execute_result"
    },
    {
     "data": {
      "image/png": "[encoded data removed]",
      "text/plain": [
       "<Figure size 720x360 with 1 Axes>"
      ]
     },
     "metadata": {
      "needs_background": "light"
     },
     "output_type": "display_data"
    }
   ],
   "source": [
    "# load a pre-cooked version of the data for 2005 (NB -- Dont use this year!!!\n",
    "# except perhaps for testing)\n",
    "\n",
    "# load the data from a pickle file\n",
    "import pickle\n",
    "import pylab as plt\n",
    "import numpy as np\n",
    "%matplotlib inline\n",
    "\n",
    "with open('data/data.pkl', 'rb') as f:\n",
    "    data = pickle.load(f, encoding='latin1') \n",
    "\n",
    "# set up plot\n",
    "plt.figure(figsize=(10,5))\n",
    "plt.xlim(data['doy'][0],data['doy'][-1]+1)\n",
    "plt.xlabel('day of year 2005')\n",
    "\n",
    "# plot data\n",
    "plt.plot(data['doy'],data['temp'],'r',label='temperature / C')\n",
    "plt.plot(data['doy'],data['snowprop']*100,'b',label='snow cover %')\n",
    "plt.plot(data['doy'],100-data['snowprop']*100,'c',label='snow free cover %')\n",
    "plt.plot(data['doy'],data['flow']/100.,'g',label='river flow / 100')\n",
    "plt.legend(loc='best')"
   ]
  },
  {
   "cell_type": "markdown",
   "metadata": {},
   "source": [
    "we have plotted the streamflow (scaled) in green, the snow cover in blue, and the non snow cover in cyan and the temperature in red. It should be apparent that thge hydrology is snow melt dominated, and to describe this (i.e. to build the simplest possible model) we can probably just apply some time lag function to the snow cover."
   ]
  },
  {
   "cell_type": "markdown",
   "metadata": {},
   "source": [
    "### 4.2.2 Data Advice"
   ]
  },
  {
   "cell_type": "markdown",
   "metadata": {},
   "source": [
    "#### 4.2.2.1 MODIS snow cover data"
   ]
  },
  {
   "cell_type": "markdown",
   "metadata": {},
   "source": [
    "For MODIS data, you will need to work out which data product you want and how to download it. To help you with this, the 'pattern' of the URLs is:\n",
    "```python\n",
    "info = {'YEAR':2007,'MONTH':1,'DAY':1}\n",
    "url = 'https://n5eil01u.ecs.nsidc.org/MOST/MOD10A1.006/' + \\\n",
    "    '{YEAR}.{MONTH:02d}.DAY:02d}/MYD*h09v05.006*hdf'.format(**info)\n",
    "\n",
    "```"
   ]
  },
  {
   "cell_type": "markdown",
   "metadata": {},
   "source": [
    "You should have codes from previous practicals sessions that allow you to download such data and you should then store the daily datasets in you local file system."
   ]
  },
  {
   "cell_type": "markdown",
   "metadata": {},
   "source": [
    "We can use the usual tools to explore the MODIS hdf files:"
   ]
  },
  {
   "cell_type": "code",
   "execution_count": 5,
   "metadata": {
    "ExecuteTime": {
     "end_time": "2017-11-21T19:48:36.930870Z",
     "start_time": "2017-11-21T19:48:36.913913Z"
    }
   },
   "outputs": [
    {
     "name": "stdout",
     "output_type": "stream",
     "text": [
      "[2400x2400] NDSI_Snow_Cover MOD_Grid_Snow_500m (8-bit unsigned integer)\n",
      "\t HDF4_EOS:EOS_GRID:\"data/MOD10A1.A2016001.h09v05.006.2016183123533.hdf\":MOD_Grid_Snow_500m:NDSI_Snow_Cover\n",
      "[2400x2400] NDSI_Snow_Cover_Basic_QA MOD_Grid_Snow_500m (8-bit unsigned integer)\n",
      "\t HDF4_EOS:EOS_GRID:\"data/MOD10A1.A2016001.h09v05.006.2016183123533.hdf\":MOD_Grid_Snow_500m:NDSI_Snow_Cover_Basic_QA\n",
      "[2400x2400] NDSI_Snow_Cover_Algorithm_Flags_QA MOD_Grid_Snow_500m (8-bit unsigned integer)\n",
      "\t HDF4_EOS:EOS_GRID:\"data/MOD10A1.A2016001.h09v05.006.2016183123533.hdf\":MOD_Grid_Snow_500m:NDSI_Snow_Cover_Algorithm_Flags_QA\n",
      "[2400x2400] NDSI MOD_Grid_Snow_500m (16-bit integer)\n",
      "\t HDF4_EOS:EOS_GRID:\"data/MOD10A1.A2016001.h09v05.006.2016183123533.hdf\":MOD_Grid_Snow_500m:NDSI\n",
      "[2400x2400] Snow_Albedo_Daily_Tile MOD_Grid_Snow_500m (8-bit unsigned integer)\n",
      "\t HDF4_EOS:EOS_GRID:\"data/MOD10A1.A2016001.h09v05.006.2016183123533.hdf\":MOD_Grid_Snow_500m:Snow_Albedo_Daily_Tile\n",
      "[2400x2400] orbit_pnt MOD_Grid_Snow_500m (8-bit integer)\n",
      "\t HDF4_EOS:EOS_GRID:\"data/MOD10A1.A2016001.h09v05.006.2016183123533.hdf\":MOD_Grid_Snow_500m:orbit_pnt\n",
      "[2400x2400] granule_pnt MOD_Grid_Snow_500m (8-bit unsigned integer)\n",
      "\t HDF4_EOS:EOS_GRID:\"data/MOD10A1.A2016001.h09v05.006.2016183123533.hdf\":MOD_Grid_Snow_500m:granule_pnt\n"
     ]
    }
   ],
   "source": [
    "import gdal\n",
    "modis_file = 'data/MOD10A1.A2016001.h09v05.006.2016183123533.hdf'\n",
    "g = gdal.Open(modis_file)\n",
    "if g is None:\n",
    "    print ('error opening file: HDF4 problem with GDAL?')\n",
    "else:\n",
    "    # note this has changed in collection 6\n",
    "    data_layer = 'MOD_Grid_Snow_500m:NDSI_Snow_Cover'\n",
    "\n",
    "    subdatasets = g.GetSubDatasets()\n",
    "    for fname, name in subdatasets:\n",
    "        print (name)\n",
    "        print (\"\\t\", fname)\n",
    "\n",
    "    fname = 'HDF4_EOS:EOS_GRID:\"%s\":%s'%(modis_file,data_layer)\n",
    "    raster = gdal.Open(fname)"
   ]
  },
  {
   "cell_type": "markdown",
   "metadata": {},
   "source": [
    "#### 4.2.3.2 Boundary Data"
   ]
  },
  {
   "cell_type": "markdown",
   "metadata": {},
   "source": [
    "Boundary data, such as catchments, might typically come as [ESRI shapefiles](http://en.wikipedia.org/wiki/Shapefile) or may be in other vector formats. There tends to be variable quality among different databases, but a reliable source for catchment data the USA is the [USGS](http://water.usgs.gov/GIS/huc.html). One set of catchments in the tile we have is the Rio Grande headwaters, which we can [see](http://water.usgs.gov/GIS/huc_rdb.html) has a HUC 8-digit code of 13010001. The full dataset is easily found from the [USGS](http://water.usgs.gov/GIS/dsdl/huc250k_shp.zip) or [locally](files/data/huc250k_shp.zip). Literature and associated data concerning this area can be found [here](http://water.usgs.gov/lookup/getwatershed?13010001). Associated [GIS data are here](http://water.usgs.gov/lookup/getgislist?type=huc&value=13010001), including the [watershed boundary data](http://water.usgs.gov/GIS/dsdl/ds573_wbdhuc8.ZIP).\n",
    "\n",
    "Data more specific to our particular catchment of interest can be found on the [Rio Grande Data Project pages](https://www.ibwc.gov/Files/CF_URG_Reclamation_042315.pdf).\n",
    "\n",
    "You should use the file [Hydrologic_Units.zip](data/Hydrologic_Units.zip). You may need to `unzip` this file to get at the shapefile [`Hydrologic_Units/HUC_Polygons.shp`](data/Hydrologic_Units/HUC_Polygons.shp) within it."
   ]
  },
  {
   "cell_type": "markdown",
   "metadata": {},
   "source": [
    "You can explore the shape file with the following:"
   ]
  },
  {
   "cell_type": "code",
   "execution_count": 18,
   "metadata": {
    "ExecuteTime": {
     "end_time": "2017-11-21T19:48:52.308504Z",
     "start_time": "2017-11-21T19:48:52.032271Z"
    },
    "scrolled": true
   },
   "outputs": [
    {
     "name": "stdout",
     "output_type": "stream",
     "text": [
      "INFO: Open of `data/Hydrological_Units/HUC_Polygons.shp'\r\n",
      "      using driver `ESRI Shapefile' successful.\r\n",
      "\r\n",
      "Layer name: HUC_Polygons\r\n",
      "Geometry: Polygon\r\n",
      "Feature Count: 1\r\n",
      "Extent: (-1207861.193700, -1295788.385400) - (-115932.919500, 152769.254400)\r\n",
      "Layer SRS WKT:\r\n",
      "PROJCS[\"USA_Contiguous_Albers_Equal_Area_Conic\",\r\n",
      "    GEOGCS[\"GCS_North_American_1983\",\r\n",
      "        DATUM[\"North_American_Datum_1983\",\r\n",
      "            SPHEROID[\"GRS_1980\",6378137.0,298.257222101]],\r\n",
      "        PRIMEM[\"Greenwich\",0.0],\r\n",
      "        UNIT[\"Degree\",0.0174532925199433],\r\n",
      "        AUTHORITY[\"EPSG\",\"4269\"]],\r\n",
      "    PROJECTION[\"Albers_Conic_Equal_Area\"],\r\n",
      "    PARAMETER[\"False_Easting\",0.0],\r\n",
      "    PARAMETER[\"False_Northing\",0.0],\r\n",
      "    PARAMETER[\"longitude_of_center\",-96.0],\r\n",
      "    PARAMETER[\"Standard_Parallel_1\",29.5],\r\n",
      "    PARAMETER[\"Standard_Parallel_2\",45.5],\r\n",
      "    PARAMETER[\"latitude_of_center\",37.5],\r\n",
      "    UNIT[\"Meter\",1.0]]\r\n",
      "HUC: Integer (9.0)\r\n",
      "REG_NAME: String (50.0)\r\n",
      "SUB_NAME: String (51.0)\r\n",
      "ACC_NAME: String (36.0)\r\n",
      "CAT_NAME: String (60.0)\r\n",
      "HUC2: Integer (4.0)\r\n",
      "HUC4: Integer (4.0)\r\n",
      "HUC6: Integer (9.0)\r\n",
      "REG: Integer (4.0)\r\n",
      "SUB: Integer (4.0)\r\n",
      "ACC: Integer (9.0)\r\n",
      "CAT: Integer (9.0)\r\n",
      "CAT_NUM: String (8.0)\r\n",
      "Shape_Leng: Real (19.11)\r\n",
      "Shape_Area: Real (19.11)\r\n",
      "OGRFeature(HUC_Polygons):2\r\n",
      "  HUC (Integer) = 13010001\r\n",
      "  REG_NAME (String) = Rio Grande Region\r\n",
      "  SUB_NAME (String) = Rio Grande Headwaters\r\n",
      "  ACC_NAME (String) = Rio Grande Headwaters\r\n",
      "  CAT_NAME (String) = Rio Grande Headwaters. Colorado.\r\n",
      "  HUC2 (Integer) = 13\r\n",
      "  HUC4 (Integer) = 1301\r\n",
      "  HUC6 (Integer) = 130100\r\n",
      "  REG (Integer) = 13\r\n",
      "  SUB (Integer) = 1301\r\n",
      "  ACC (Integer) = 130100\r\n",
      "  CAT (Integer) = 13010001\r\n",
      "  CAT_NUM (String) = 13010001\r\n",
      "  Shape_Leng (Real) = 313605.66409400001\r\n",
      "  Shape_Area (Real) = 3458016895.23000001907\r\n",
      "\r\n"
     ]
    }
   ],
   "source": [
    "!ogrinfo data/Hydrological_Units/HUC_Polygons.shp HUC_Polygons -nomd -geom=NO -where \"HUC=13010001\""
   ]
  },
  {
   "cell_type": "markdown",
   "metadata": {},
   "source": [
    "The catchment is only a small proportion of the total dataset, so make sure you apply masking and cropping appropriately.\n",
    "\n",
    "**You will need to develop code to load the time series of snow cover data into a 3D numpy array, cropped to the required catchment**\n",
    "\n",
    "**You will then need to develop code to interpolate over any missing data, so that there is an estimate of snow cover for every pixel in the catchment for all days**\n",
    "\n",
    "**You will need to produce images (i.e. fully labelled plots) of snow cover spatial data for the catchment for 13 samples spaced equally through the year, one set of images for each year.** This will be used to demonstrate that you have achieved this interpolation, so you should show the datyasets for both pre- and post-interpolation."
   ]
  },
  {
   "cell_type": "code",
   "execution_count": 19,
   "metadata": {},
   "outputs": [
    {
     "data": {
      "text/plain": [
       "<matplotlib.image.AxesImage at 0x12646fe80>"
      ]
     },
     "execution_count": 19,
     "metadata": {},
     "output_type": "execute_result"
    },
    {
     "data": {
      "image/png": "[encoded data removed]",
      "text/plain": [
       "<Figure size 432x288 with 1 Axes>"
      ]
     },
     "metadata": {
      "needs_background": "light"
     },
     "output_type": "display_data"
    }
   ],
   "source": [
    "from geog0111.raster_mask import raster_mask2\n",
    "import pylab as plt\n",
    "%matplotlib inline\n",
    "\n",
    "m = raster_mask2(fname,\\\n",
    "                target_vector_file=\"data/Hydrological_Units/HUC_Polygons.shp\",\\\n",
    "                attribute_filter=2)\n",
    "plt.imshow(m)"
   ]
  },
  {
   "cell_type": "markdown",
   "metadata": {},
   "source": [
    "#### 4.2.3.3 Discharge Data\n",
    "\n",
    "A sample of the river discharge data are in the file [`data/delnorte.dat`](data/delnorte.dat).\n",
    "\n",
    "If you examine the file:"
   ]
  },
  {
   "cell_type": "code",
   "execution_count": 26,
   "metadata": {
    "ExecuteTime": {
     "end_time": "2017-11-21T19:49:05.691097Z",
     "start_time": "2017-11-21T19:49:05.567229Z"
    }
   },
   "outputs": [
    {
     "name": "stdout",
     "output_type": "stream",
     "text": [
      "# ---------------------------------- WARNING ----------------------------------------\n",
      "# Provisional data are subject to revision. Go to\n",
      "# http://help.waterdata.usgs.gov/policies/provisional-data-statement for more information.\n",
      "#\n",
      "# File-format description:  http://help.waterdata.usgs.gov/faq/about-tab-delimited-output\n",
      "# Automated-retrieval info: http://help.waterdata.usgs.gov/faq/automated-retrievals\n",
      "#\n",
      "# Contact:   gs-w_support_nwisweb@usgs.gov\n",
      "# retrieved: 2016-11-02 04:17:13 -04:00\t(natwebsdas01)\n",
      "#\n",
      "# Data for the following 1 site(s) are contained in this file\n",
      "#    USGS 08220000 RIO GRANDE NEAR DEL NORTE, CO\n",
      "# -----------------------------------------------------------------------------------\n",
      "#\n",
      "# TS_ID - An internal number representing a time series.\n",
      "# IV_TS_ID - An internal number representing the Instantaneous Value time series from which the daily statistic is calculated.\n",
      "#\n",
      "# Data provided for site 08220000\n",
      "#    TS_ID       Parameter    Statistic  IV_TS_ID       Description\n",
      "#    18268       00060        00003      -1             Discharge, cubic feet per second (Mean)\n",
      "#\n",
      "# Data-value qualification codes included in this output:\n",
      "#     A  Approved for publication -- Processing and review completed.\n",
      "#     e  Value has been edited or estimated by USGS personnel and is write protected.\n",
      "#\n",
      "agency_cd\tsite_no\tdatetime\t18268_00060_00003\t18268_00060_00003_cd\n",
      "5s\t15s\t20d\t14n\t10s\n",
      "USGS\t08220000\t2005-01-01\t210\tA:e\n",
      "USGS\t08220000\t2005-01-02\t190\tA:e\n",
      "USGS\t08220000\t2005-01-03\t190\tA:e\n",
      "USGS\t08220000\t2005-01-04\t200\tA:e\n",
      "USGS\t08220000\t2005-01-05\t200\tA:e\n",
      "USGS\t08220000\t2005-01-06\t190\tA:e\n",
      "USGS\t08220000\t2005-01-07\t170\tA:e\n",
      "USGS\t08220000\t2005-01-08\t180\tA:e\n",
      "USGS\t08220000\t2005-01-09\t200\tA:e\n",
      "USGS\t08220000\t2005-01-10\t220\tA:e\n",
      "USGS\t08220000\t2005-01-11\t210\tA:e\n",
      "USGS\t08220000\t2005-01-12\t200\tA:e\n",
      "USGS\t08220000\t2005-01-13\t190\tA:e\n"
     ]
    }
   ],
   "source": [
    "f = open('data/delnorte.dat').readlines()\n",
    "for i in range(40):\n",
    "    print(f[i],end='')"
   ]
  },
  {
   "cell_type": "markdown",
   "metadata": {},
   "source": [
    "you will see comment lines that start with `#`, followed by data lines.\n",
    "\n",
    "The easiest way to read these data would be to use:\n",
    "\n"
   ]
  },
  {
   "cell_type": "code",
   "execution_count": 27,
   "metadata": {
    "ExecuteTime": {
     "end_time": "2017-11-21T19:49:08.673996Z",
     "start_time": "2017-11-21T19:49:08.431385Z"
    }
   },
   "outputs": [],
   "source": [
    "import numpy as np\n",
    "file = 'data/delnorte.dat'\n",
    "data = np.loadtxt(file,usecols=(2,3),unpack=True,dtype=str)"
   ]
  },
  {
   "cell_type": "code",
   "execution_count": 29,
   "metadata": {
    "ExecuteTime": {
     "end_time": "2017-11-21T19:49:09.732879Z",
     "start_time": "2017-11-21T19:49:09.727714Z"
    }
   },
   "outputs": [
    {
     "name": "stdout",
     "output_type": "stream",
     "text": [
      "['datetime' '20d' '2005-01-01' '2005-01-02' '2005-01-03' '2005-01-04'\n",
      " '2005-01-05' '2005-01-06' '2005-01-07' '2005-01-08' '2005-01-09'\n",
      " '2005-01-10' '2005-01-11' '2005-01-12' '2005-01-13' '2005-01-14'\n",
      " '2005-01-15' '2005-01-16' '2005-01-17' '2005-01-18' '2005-01-19'\n",
      " '2005-01-20' '2005-01-21' '2005-01-22' '2005-01-23' '2005-01-24'\n",
      " '2005-01-25' '2005-01-26' '2005-01-27' '2005-01-28' '2005-01-29'\n",
      " '2005-01-30' '2005-01-31' '2005-02-01' '2005-02-02' '2005-02-03'\n",
      " '2005-02-04' '2005-02-05' '2005-02-06' '2005-02-07' '2005-02-08'\n",
      " '2005-02-09' '2005-02-10' '2005-02-11' '2005-02-12' '2005-02-13'\n",
      " '2005-02-14' '2005-02-15' '2005-02-16' '2005-02-17' '2005-02-18'\n",
      " '2005-02-19' '2005-02-20' '2005-02-21' '2005-02-22' '2005-02-23'\n",
      " '2005-02-24' '2005-02-25' '2005-02-26' '2005-02-27' '2005-02-28'\n",
      " '2005-03-01' '2005-03-02' '2005-03-03' '2005-03-04' '2005-03-05'\n",
      " '2005-03-06' '2005-03-07' '2005-03-08' '2005-03-09' '2005-03-10'\n",
      " '2005-03-11' '2005-03-12' '2005-03-13' '2005-03-14' '2005-03-15'\n",
      " '2005-03-16' '2005-03-17' '2005-03-18' '2005-03-19' '2005-03-20'\n",
      " '2005-03-21' '2005-03-22' '2005-03-23' '2005-03-24' '2005-03-25'\n",
      " '2005-03-26' '2005-03-27' '2005-03-28' '2005-03-29' '2005-03-30'\n",
      " '2005-03-31' '2005-04-01' '2005-04-02' '2005-04-03' '2005-04-04'\n",
      " '2005-04-05' '2005-04-06' '2005-04-07' '2005-04-08']\n",
      "['18268_00060_00003' '14n' '210' '190' '190' '200' '200' '190' '170' '180'\n",
      " '200' '220' '210' '200' '190' '170' '170' '180' '190' '200' '210' '220'\n",
      " '220' '220' '220' '220' '220' '220' '230' '240' '230' '210' '200' '190'\n",
      " '180' '180' '180' '190' '200' '190' '190' '180' '190' '200' '210' '210'\n",
      " '210' '210' '210' '200' '200' '190' '200' '203' '205' '213' '207' '191'\n",
      " '190' '196' '190' '195' '196' '194' '189' '201' '201' '208' '218' '233'\n",
      " '262' '285' '320' '350' '340' '320' '272' '257' '272' '255' '266' '255'\n",
      " '245' '277' '270' '255' '248' '239' '284' '305' '270' '243' '235' '275'\n",
      " '344' '401' '424' '430' '576' '705']\n"
     ]
    }
   ],
   "source": [
    "# so you have the dates in\n",
    "# print the first 100\n",
    "print (data[0][:100])\n",
    "# and data in \n",
    "print (data[1][:100])\n",
    "# but the data start in column 3 so use [2:]"
   ]
  },
  {
   "cell_type": "code",
   "execution_count": 30,
   "metadata": {
    "ExecuteTime": {
     "end_time": "2017-11-21T19:49:12.870482Z",
     "start_time": "2017-11-21T19:49:12.612144Z"
    }
   },
   "outputs": [
    {
     "data": {
      "text/plain": [
       "[<matplotlib.lines.Line2D at 0x1270929b0>]"
      ]
     },
     "execution_count": 30,
     "metadata": {},
     "output_type": "execute_result"
    },
    {
     "data": {
      "image/png": "[encoded data removed]",
      "text/plain": [
       "<Figure size 432x288 with 1 Axes>"
      ]
     },
     "metadata": {
      "needs_background": "light"
     },
     "output_type": "display_data"
    }
   ],
   "source": [
    "# and the stream flow in data[1][2:]\n",
    "plt.plot(data[1][2:].astype(float))"
   ]
  },
  {
   "cell_type": "markdown",
   "metadata": {},
   "source": [
    "You will need to convert the date field (i.e. the data in `data[0]`) into the day of year.\n",
    "\n",
    "This is readily accomplished using `datetime`:"
   ]
  },
  {
   "cell_type": "code",
   "execution_count": 31,
   "metadata": {
    "ExecuteTime": {
     "end_time": "2017-11-21T19:49:14.666606Z",
     "start_time": "2017-11-21T19:49:14.657622Z"
    }
   },
   "outputs": [
    {
     "name": "stdout",
     "output_type": "stream",
     "text": [
      "[2005    1    1]\n",
      "2005 001\n"
     ]
    }
   ],
   "source": [
    "import datetime\n",
    "# transform the first one, which is data[0][2:]\n",
    "\n",
    "ds = np.array(data[0][2].split('-')).astype(int)\n",
    "print (ds)\n",
    "year,doy = datetime.datetime(ds[0],ds[1],ds[2]).strftime('%Y %j').split()\n",
    "print (year,doy)"
   ]
  },
  {
   "cell_type": "markdown",
   "metadata": {},
   "source": [
    "#### 4.2.3.4 Temperature data"
   ]
  },
  {
   "cell_type": "markdown",
   "metadata": {},
   "source": [
    "We can directly access temperature data from [here](http://ccc.atmos.colostate.edu/cgi-bin/dlydb.pl?yrbeg=2000&yrend=2020&station=52184+DEL+NORTE&proc=2+-+List+Format+%28see+docs%29).\n",
    "\n",
    "The format of [`delNorteT.dat`](files/data/delNorteT.dat) is given here.\n",
    "\n",
    "The first three fields are date fields (`YEAR`, `MONTH` and `DAY`), followed by `TMAX`, `TMIN`, `PRCP`, `SNOW`, `SNDP`.\n",
    "\n",
    "You should read in the temperature data for the days and years that you want. \n",
    "\n",
    "For temperature, you might take a **mean of TMAX and TMIN**. \n",
    "\n",
    "**Note that these are in Fahrenheit. You should convert them to Celcius.**\n",
    "\n",
    "Note also that there are missing data (values `9998` and `9999`). You will need to filter these and interpolate the data in some way. A median might be a good approach, but any interpolation will suffice.\n",
    "\n",
    "With that processing then, you should have a dataset, Temperature that will look something like (in cyan, for the year 2005):\n",
    "\n",
    "![](files/images/temperature.png)"
   ]
  },
  {
   "cell_type": "markdown",
   "metadata": {},
   "source": [
    "## 4.3 Coursework"
   ]
  },
  {
   "cell_type": "markdown",
   "metadata": {},
   "source": [
    "You need to submit you coursework in the usual manner by the usual submission date.\n",
    "\n",
    "You **must** work individually on this task. If you do not, it will be treated as plagiarism. By reading these instructions for this exercise, we assume that you are aware of the UCL rules on plagiarism. You can find more information on this matter in your student handbook. If in doubt about what might constitute plagiarism, ask one of the course convenors.\n",
    "\n",
    "### 6.3.1 Summary of coursework requirements\n",
    "\n",
    "- **Part 1: Data Preparation**\n",
    "  \n",
    "     The first task you must complete is to produce a dataset of the proportion of HUC catchment 13010001 (Rio Grande headwaters in Colorado, USA) that is covered by snow for **two years** (not necessarily consecutive), along with associated datasets on temperature (in C) and river discharge at the Del Norte monitoring station. You will use these data in the modelling work in Part 2 of the coursework.\n",
    "     \n",
    "     You **may not** use data from the years 2005 or 2006, as this will be given to you in illustrations of the material.\n",
    "\n",
    "    The dataset you produce must have a value for **the mean snow cover, temperature and discharge in the catchment for every day over each year.**\n",
    "\n",
    "    Your write up **must** include fully labelled graph(s) of snow cover, temperature and discharge for the catchment for each year (with units as appropriate), along with some summary statistics (e.g. mean or median, minimum, maximum, and the timing of these). \n",
    "    \n",
    "    You **must** provide evidence of how you got these data (i.e. the code and commands you ran to produce the data).\n",
    "    \n",
    "**Checklist:**\n",
    "    \n",
    "    * provide fully commented/documented code for all operations.\n",
    "    * provide two years of **daily** data (not 2005 or 2006)\n",
    "    * Generate datasets of:\n",
    "        * mean snow cover (0.0 to 1.0) for the catchment for each day of the year\n",
    "        * temperature (C) at the Del Norte monitoring station for each day of the year\n",
    "        * river discharge at the Del Norte monitoring station for each day of the year\n",
    "    * Produce a table of summary statistics for each of the 3 datasets (one for easch year)\n",
    "    * produce graphs of the 3 datasets for each year (as function of day of year)\n",
    "    * produce an `npz` file containing the 3 datasets, one for each year.\n",
    "    * produce images of snow cover spatial data for the catchment for **13 samples** spaced equally through the year, one set of images for each year. You need to do this for the data pre-interpolation and aftyer you have done the interpolation.\n",
    "    "
   ]
  },
  {
   "cell_type": "markdown",
   "metadata": {},
   "source": [
    "### 4.3.2 Summary of Advice"
   ]
  },
  {
   "cell_type": "markdown",
   "metadata": {},
   "source": [
    "The first task involves pulling datasets from different sources. No individual part of that should be too difficult, but you must put this together from the material we have done so far. It is more a question of organisation then.\n",
    "\n",
    "Perhaps think first about where you want to end up with on this (the 'output'). This might for example be a dictionary with keys `temp`, `doy`, `snow` and `flow`, where each of these would be an array with 365 values (or 366 in a leap year).\n",
    "\n",
    "Then consider the datasets you have: these are: (i) a stack of MODIS data with daily observations; (ii) temperature data in a file; (iii) flow data in a file.\n",
    "\n",
    "It might be a little fiddly getting the data you want from the flow and temperature data files, but its not very complicated. You will need to consider flagging invalid observations and perhaps interpolating between these.\n",
    "\n",
    "Processing the MODIS data might take a little more thought, but it is much the same process. Again, we read the datasets in, trying to make this efficient on data size by only using the area of the vector data mask as in a previous exercise. The data reading will be very similar to reading the MODIS LAI product, but you need to work out and implement what changes are necessary. As advised abovem you should use the `raster_mask2()` function for creating the spatial data masks. Again, you will need to interpolate or perhaps smooth between observations, and then process the snow cover proportions to get an average over the catchment.\n",
    "\n",
    "\n",
    "The second task revolves around using the model that we have developed above in the function `model_accum()`. You have been through previous examples in Python where you attempt to estimate some model parameters given an initial estimate of the parameters and some cost function to be minimised. Solving the model calibration part of problem should follow those same lines then. Testing (validation) should be easy enough. Don't forget to include the estimated parameters (and other relevant information, e.g. your initial estimate, uncertainties if available) in your write up.\n",
    "\n",
    "There is quite a lot of data presentation here, and you need to provide *evidence* that you have done the task. Make sure you use images (e.g. of snow cover varying), graphs (e.g. modelled and predicted flow, etc.), and tables (e.g. model parameter estimates) throughout, as appropriate.\n",
    "\n",
    "If, for some reason, you are unable to complete the first part of the practical, you should submit what you can for that first part, and continue with calibrating the model using the 2005 dataset that we used above. This would be far from ideal as you would not have completed the required elements for either part in that case, but it would generall be better than not submitting anything."
   ]
  },
  {
   "cell_type": "markdown",
   "metadata": {},
   "source": [
    "### 4.3.3 Further advice"
   ]
  },
  {
   "cell_type": "markdown",
   "metadata": {},
   "source": [
    "There is plenty of scope here for going beyond the basic requirements, if you get time and are interested (and/or want a higher mark!).\n",
    "\n",
    "You will be given credit for all additional work included in the write up, **once you have achieved the basic requirements**. So, there is no point (i.e. you will not get credit for) going off on all sorts of interesting lines of exploration here *unless* you have first completed the core task."
   ]
  },
  {
   "cell_type": "markdown",
   "metadata": {},
   "source": [
    "### 4.3.4 Structure of the Report"
   ]
  },
  {
   "cell_type": "markdown",
   "metadata": {},
   "source": [
    "The required elements of the report are:\n",
    "\n",
    "```\n",
    "    1. Code for temperature and river discharge data download, reading and saving, with running of code and datasets for 2 years of daily data, and appropriate plots showing the datasets (10%)\n",
    "        * temperature (C) at the Del Norte monitoring station for each day of the year\n",
    "        * river discharge at the Del Norte monitoring station for each day of the year\n",
    "\n",
    "   2. Code for downloading MODIS snow cover data, masking, cropping and extracting the data into a 3D numpy array, storing the data, running the code for 2 years data, and appropiate plots. (20%)\n",
    "    \n",
    "   3. Code for interpolating MODIS snow cover data and calculating mean snow cover over the catchment, saving the data, running the code for 2 years data, and appropiate plots. (15%)\n",
    "\n",
    "   4. Produce a table of summary statistics for each of the datasets (one for each year) and a `npz` file containing all of the datasets (5%)\n",
    "  \n",
    "   For parts 2 and 3, make sure to produce images of snow cover spatial data for the catchment for **13 samples** spaced equally through the year, one set of images for each year. You need to do this for the data pre-interpolation (part 2) and after you have done the interpolation (part 3).\n",
    "```\n",
    "\n",
    "The figures in brackets indicate the percentage of marks that we will award for each section of the report.\n"
   ]
  },
  {
   "cell_type": "markdown",
   "metadata": {},
   "source": [
    "### 4.3.5 Computer Code"
   ]
  },
  {
   "cell_type": "markdown",
   "metadata": {},
   "source": [
    "#### General requirements\n",
    "\n",
    "You will obviously need to submit computer codes as part of this assessment. Some flexibility in the style of these codes is to be expected. For example, some might write a class that encompasses the functionality for all tasks. Some poeple might have multiple versions of codes with different functionality. All of these, and other reasonable variations are allowed.\n",
    "\n",
    "All codes needed to demonstrate that you have performed the core tasks are required to be included in the submission. You should include all codes that you make use of in the main body of the text in the main body. Any other codes that you want to refer to (e.g. something you tried out as an enhancement and didn’t quite get there) you can include in appendices.\n",
    "\n",
    "All codes should be well-commented. Part of the marks you get for code will depend on the adequacy of the commenting.\n",
    "\n",
    "#### Degree of original work required and plagiarism\n",
    "\n",
    "If you use a piece of code verbatim that you have taken from the course pages or any other source, **you must acknowledge this** in comments in your text. **Not to do so is plagiarism**. Where you have taken some part (e.g. a few lines) of someone else’s code, **you should also indicate this**. If some of your code is heavily based on code from elsewhere, **you must also indicate that**.\n",
    "\n",
    "Some examples. \n",
    "\n",
    "The first example is guilty of strong plagiarism, it does not seek to acknowledge the source of this code, even though it is just a direct copy, pasted into a method called `model()`:"
   ]
  },
  {
   "cell_type": "code",
   "execution_count": 32,
   "metadata": {
    "ExecuteTime": {
     "end_time": "2017-11-21T19:49:29.355926Z",
     "start_time": "2017-11-21T19:49:29.345443Z"
    }
   },
   "outputs": [],
   "source": [
    "def model(tempThresh=9.0,K=2000.0,p=0.96):\n",
    "    '''need to comment this further ...\n",
    "\n",
    "    '''\n",
    "    import numpy as np\n",
    "    meltDays = np.where(temperature > tempThresh)[0]\n",
    "    accum = snowProportion*0.\n",
    "    for d in meltDays:\n",
    "        water = K * snowProportion[d]\n",
    "        n = np.arange(len(snowProportion)) - d\n",
    "        m = p ** n\n",
    "        m[np.where(n<0)]=0\n",
    "        accum += m * water\n",
    "    return accum"
   ]
  },
  {
   "cell_type": "markdown",
   "metadata": {},
   "source": [
    "This is **not** acceptable.\n",
    "\n",
    "This should probably be something along the lines of:"
   ]
  },
  {
   "cell_type": "code",
   "execution_count": 33,
   "metadata": {},
   "outputs": [],
   "source": [
    "def model(tempThresh=9.0,K=2000.0,p=0.96):\n",
    "    '''need to comment this further ...\n",
    "\n",
    "    This code is taken directly from\n",
    "    \"Modelling delay in a hydrological network\"\n",
    "    by P. Lewis http://www2.geog.ucl.ac.uk/~plewis/geogg122/DelNorte.html\n",
    "    and wrapped into a method.\n",
    "    '''\n",
    "    # my code: make sure numpy is imported\n",
    "    import numpy as np\n",
    "\n",
    "    # code below verbatim from Lewis\n",
    "    meltDays = np.where(temperature > tempThresh)[0]\n",
    "    accum = snowProportion*0.\n",
    "    for d in meltDays:\n",
    "        water = K * snowProportion[d]\n",
    "        n = np.arange(len(snowProportion)) - d\n",
    "        m = p ** n\n",
    "        m[np.where(n<0)]=0\n",
    "        accum += m * water\n",
    "    # my code: return accumulator\n",
    "    return accum"
   ]
  },
  {
   "cell_type": "markdown",
   "metadata": {},
   "source": [
    "Now, we acknowledge that this is in essence a direct copy of someone else’s code, and clearly state this. We do also show that we have added some new lines to the code, and that we have wrapped this into a method.\n",
    "\n",
    "In the next example, we have seen that the way m is generated is in fact rather inefficient, and have re-structured the code. It is partially developed from the original code, and acknowledges this:"
   ]
  },
  {
   "cell_type": "code",
   "execution_count": 34,
   "metadata": {
    "ExecuteTime": {
     "end_time": "2017-11-21T19:49:32.108956Z",
     "start_time": "2017-11-21T19:49:32.097823Z"
    }
   },
   "outputs": [],
   "source": [
    "def model(tempThresh=9.0,K=2000.0,p=0.96):\n",
    "    '''need to comment this further ...\n",
    "\n",
    "    This code after the model developed in\n",
    "    \"Modelling delay in a hydrological network\"\n",
    "    by P. Lewis\n",
    "    http://www2.geog.ucl.ac.uk/~plewis/geogg122/DelNorte.html\n",
    "\n",
    "    My modifications have been to make the filtering more efficient.\n",
    "    '''\n",
    "    # my code: make sure numpy is imported\n",
    "    import numpy as np\n",
    "\n",
    "    # code below verbatim from Lewis unless otherwise indicated\n",
    "    meltDays = np.where(temperature > tempThresh)[0]\n",
    "    accum = snowProportion*0.\n",
    "\n",
    "    # my code: pull the filter block out of the loop\n",
    "    n = np.arange(len(snowProportion))\n",
    "    m = p ** n\n",
    "\n",
    "    for d in meltDays:\n",
    "        water = K * snowProportion[d]\n",
    "\n",
    "        # my code: shift the filter on by one day\n",
    "        # ...do something clever to shift it on by one day\n",
    "\n",
    "        accum += m * water\n",
    "    # my code: return accumulator\n",
    "    return accum"
   ]
  },
  {
   "cell_type": "markdown",
   "metadata": {},
   "source": [
    "This example makes it clear that significant modifications have been made to the code structure (and probably to its efficiency) although the basic model and looping comes from an existing piece of code. It clearly highlights what the actual modifications have been. Note that this is not a working example!!\n",
    "\n",
    "Although you are supposed to do this piece of work on your own, there might be some circumstances under which someone has significantly helped you to develop the code (e.g. written the main part of it for you & you’ve just copied that with some minor modifications). You **must** acknowledge in your code comments if this has happened. On the whole though, this should not occur, as you **must** complete this work on your own.\n",
    "\n",
    "If you take a piece of code from somewhere else and all you do is change the variable names and/or other cosmetic changes, you **must** acknowledge the source of the original code (with a URL if available).\n",
    "\n",
    "Plagiarism in coding is a tricky issue. One reason for that is that often the best way to learn something like this is to find an example that someone else has written and adapt that to your purposes. Equally, if someone has written some tool/library to do what you want to do, it would generally not be worthwhile for you to write your own but to concentrate on using that to achieve something new. Even in general code writing (i.e. when not submitting it as part of your assessment) you and anyone else who ever has to read your code would find it of value to make reference to where you found the material to base what you did on. The key issue to bear in mind in this work, as it is submitted ‘as your own work’ is that, to avoid being accused of plagiarism and to allow a fair assessment of what you have done, you must clearly acknowledge which parts of it are your own, and the degree to which you could claim them to be your own.\n",
    "\n",
    "For example, based on ... is absolutely fine, and you would certainly be given credit for what you have done. In many circumstances ‘taken verbatim from ...’ would also be fine (provided it is acknowledged) but then you would be given credit for what you had done with the code that you had taken from elsewhere (e.g. you find some elegant way of doing the graphs that someone has written and you make use of it for presenting your results).\n",
    "\n",
    "The difference between what you submit here and the code you might write if this were not a piece submitted for assessment is that you the vast majority of the credit you will gain for the code will be based on the degree to which you demonstrate that you can write code to achieve the required tasks. There would obviously be some credit for taking codes from the coursenotes and bolting them together into something that achieves the overall aim: provided that worked, and you had commented it adequately and acknowledge what the extent of your efforts had been, you should be able to achieve a pass in that component of the work. If there was no original input other than vbolting pieces of existing code together though, you be unlikely to achieve more than a pass. If you get less than a pass in another component of the coursework, that then puts you in danger of an overall fail.\n",
    "\n",
    "Provided you achieve the core tasks, the more original work that you do/show (that is of good quality), the higher the mark you will get. Once you have achieved the core tasks, even if you try something and don’t quite achieve it, is is probably worth including, as you may get marks for what you have done (or that fact that it was a good or interesting thing to try to do)."
   ]
  },
  {
   "cell_type": "markdown",
   "metadata": {},
   "source": [
    "#### Documentation\n",
    "\n",
    "Note: All methods/functions and classes must be documented for the code to be adequate. Generally, this will contain:\n",
    "\n",
    "   - some text on the purpose of the method (/function/class)\n",
    "\n",
    "   - some text describing the inputs and outputs, including reference to any relevant details such as datatype, shape etc where such things are of relevance to understanding the code.\n",
    "\n",
    "   - some text on keywords, e.g.:"
   ]
  },
  {
   "cell_type": "code",
   "execution_count": 31,
   "metadata": {
    "ExecuteTime": {
     "end_time": "2017-11-21T19:49:34.566235Z",
     "start_time": "2017-11-21T19:49:34.557952Z"
    }
   },
   "outputs": [],
   "source": [
    "def complex(real=0.0, imag=0.0):\n",
    "    \"\"\"Form a complex number.\n",
    "\n",
    "    Keyword arguments:\n",
    "    real -- the real part (default 0.0)\n",
    "    imag -- the imaginary part (default 0.0)\n",
    "\n",
    "    Example taken verbatim from:\n",
    "    http://www.python.org/dev/peps/pep-0257/\n",
    "    \"\"\"\n",
    "    if imag == 0.0 and real == 0.0: return complex_zero\n"
   ]
  },
  {
   "cell_type": "markdown",
   "metadata": {},
   "source": [
    "You should look at the [document on good docstring conventions](http://www.python.org/dev/peps/pep-0257/) when considering how to document methods, classes etc.\n",
    "\n",
    "To demonstrate your documentation, you **must** include the help text generated by your code after you include the code. e.g.:"
   ]
  },
  {
   "cell_type": "code",
   "execution_count": 35,
   "metadata": {
    "ExecuteTime": {
     "end_time": "2017-11-21T19:49:36.343661Z",
     "start_time": "2017-11-21T19:49:36.337210Z"
    }
   },
   "outputs": [],
   "source": [
    "def print_something(this,stderr=False):\n",
    "    '''This does something.\n",
    "\n",
    "    Keyword arguments:\n",
    "    stderr -- set to True to print to stderr (default False)\n",
    "    '''\n",
    "\n",
    "    if stderr:\n",
    "        # import sys.stderr\n",
    "        from sys import stderr\n",
    "\n",
    "        # print to stderr channel, converting this to str\n",
    "        print >> stderr,str(this)\n",
    "\n",
    "        # job done, return\n",
    "        return\n",
    "\n",
    "    # print to stdout, converting this to str\n",
    "    print (str(this))\n",
    "\n",
    "    return\n"
   ]
  },
  {
   "cell_type": "markdown",
   "metadata": {},
   "source": [
    "Then the help text would be:"
   ]
  },
  {
   "cell_type": "code",
   "execution_count": 36,
   "metadata": {
    "ExecuteTime": {
     "end_time": "2017-11-21T19:49:37.654141Z",
     "start_time": "2017-11-21T19:49:37.649675Z"
    }
   },
   "outputs": [
    {
     "name": "stdout",
     "output_type": "stream",
     "text": [
      "Help on function print_something in module __main__:\n",
      "\n",
      "print_something(this, stderr=False)\n",
      "    This does something.\n",
      "    \n",
      "    Keyword arguments:\n",
      "    stderr -- set to True to print to stderr (default False)\n",
      "\n"
     ]
    }
   ],
   "source": [
    "help(print_something)"
   ]
  },
  {
   "cell_type": "markdown",
   "metadata": {},
   "source": [
    "The above example represents a ‘good’ level of commenting as the code broadly adheres to the style suggestions and most of the major features are covered. It is not quite ‘very good/excellent’ as the description of the purpose of the method (rather important) is trivial and it fails to describe the input this in any way. An excellent piece would do all of these things, and might well tell us about any dependencies (e.g. requires sys if stderr set to True).\n",
    "\n",
    "An inadequate example would be:"
   ]
  },
  {
   "cell_type": "code",
   "execution_count": 38,
   "metadata": {
    "ExecuteTime": {
     "end_time": "2017-11-21T19:49:39.641877Z",
     "start_time": "2017-11-21T19:49:39.635030Z"
    }
   },
   "outputs": [],
   "source": [
    "def print_something(this,stderr=False):\n",
    "    '''This prints something'''\n",
    "    if stderr:\n",
    "        from sys import stderr\n",
    "        print >> stderr,str(this)\n",
    "        return\n",
    "    print (str(this))"
   ]
  },
  {
   "cell_type": "markdown",
   "metadata": {},
   "source": [
    "It is inadequate because it still only has a trivial description of the purpose of the method, it tells us nothing about inputs/outputs and there is no commenting inside the method."
   ]
  },
  {
   "cell_type": "markdown",
   "metadata": {},
   "source": [
    "#### Word limit\n",
    "\n",
    "There is no word limit per se on the computer codes, though as with all writing, you should try to be succint rather than overly verbose.\n",
    "\n",
    "#### Code style\n",
    "\n",
    "A good to excellent piece of code would take into account issues raised in the [style guide](http://www.python.org/dev/peps/pep-0008/). The ‘degree of excellence’ would depend on how well you take those points on board."
   ]
  }
 ],
 "metadata": {
  "kernelspec": {
   "display_name": "Python 3",
   "language": "python",
   "name": "python3"
  },
  "language_info": {
   "codemirror_mode": {
    "name": "ipython",
    "version": 3
   },
   "file_extension": ".py",
   "mimetype": "text/x-python",
   "name": "python",
   "nbconvert_exporter": "python",
   "pygments_lexer": "ipython3",
   "version": "3.7.8"
  },
  "latex_envs": {
   "LaTeX_envs_menu_present": true,
   "autocomplete": true,
   "bibliofile": "biblio.bib",
   "cite_by": "apalike",
   "current_citInitial": 1,
   "eqLabelWithNumbers": true,
   "eqNumInitial": 0,
   "hotkeys": {
    "equation": "Ctrl-E",
    "itemize": "Ctrl-I"
   },
   "labels_anchors": false,
   "latex_user_defs": false,
   "report_style_numbering": false,
   "user_envs_cfg": false
  },
  "toc": {
   "base_numbering": 1,
   "nav_menu": {},
   "number_sections": false,
   "sideBar": true,
   "skip_h1_title": false,
   "title_cell": "Table of Contents",
   "title_sidebar": "Contents",
   "toc_cell": true,
   "toc_position": {
    "height": "calc(100% - 180px)",
    "left": "10px",
    "top": "150px",
    "width": "362.1875px"
   },
   "toc_section_display": "block",
   "toc_window_display": true
  }
 },
 "nbformat": 4,
 "nbformat_minor": 1
}
